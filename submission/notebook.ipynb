{
  "cells": [
    {
      "cell_type": "markdown",
      "metadata": {
        "id": "H9wADwK78DCz"
      },
      "source": [
        "# Proyek Analisis Data: Bike-sharing-dataset\n",
        "- **Nama:** Sariwati Putri Mutiara Sagala\n",
        "- **Email:** sarisagala7@gmail.com\n",
        "- **ID Dicoding:** sarisgl"
      ]
    },
    {
      "cell_type": "markdown",
      "metadata": {
        "id": "eE0raob58DC0"
      },
      "source": [
        "## Menentukan Pertanyaan Bisnis"
      ]
    },
    {
      "cell_type": "markdown",
      "metadata": {
        "id": "GmQeQ5YF8DC0"
      },
      "source": [
        "- Bagaimana performa penyewaan sepeda dalam beberapa perhitungan hari terakhir?\n",
        "- Bagaimana distribusi penggunaan sepeda berdasarkan musim?\n",
        "- Apakah terdapat perbedaan signifikan dalam jumlah penggunaan antara musim-musim tersebut?\n",
        "- Bagaimana korelasi antara kecepatan angin dengan jumlah penyewa sepeda?\n"
      ]
    },
    {
      "cell_type": "markdown",
      "metadata": {
        "id": "H-z4QGlO8DC1"
      },
      "source": [
        "## Import Semua Packages/Library yang Digunakan"
      ]
    },
    {
      "cell_type": "markdown",
      "metadata": {
        "id": "Z8K6ra-zEG9g"
      },
      "source": [
        "*Untuk memulai pengerjaan proyek ini, kita perlu memanggil semua library yang dibutuhkan.*"
      ]
    },
    {
      "cell_type": "code",
      "execution_count": 81,
      "metadata": {
        "id": "FVYwaObI8DC1"
      },
      "outputs": [],
      "source": [
        "import numpy as np\n",
        "import pandas as pd\n",
        "import matplotlib.pyplot as plt\n",
        "import seaborn as sns\n",
        "import statsmodels.api as sm\n",
        "from statsmodels.formula.api import ols\n",
        "from scipy.stats import shapiro, levene"
      ]
    },
    {
      "cell_type": "markdown",
      "metadata": {
        "id": "h_Sh51Xy8DC1"
      },
      "source": [
        "## Data Wrangling"
      ]
    },
    {
      "cell_type": "markdown",
      "metadata": {
        "id": "sXU2GBYu8DC1"
      },
      "source": [
        "### Gathering Data"
      ]
    },
    {
      "cell_type": "markdown",
      "metadata": {
        "id": "uPR5uw4uErbN"
      },
      "source": [
        "*Pada tahapan ini, akan dikumpulkan semua data yang dibutuhkan.*"
      ]
    },
    {
      "cell_type": "markdown",
      "metadata": {
        "id": "XK5smf8PA_Sq"
      },
      "source": [
        "*1. Memuat tabel day*"
      ]
    },
    {
      "cell_type": "code",
      "execution_count": 2,
      "metadata": {
        "colab": {
          "base_uri": "https://localhost:8080/",
          "height": 313
        },
        "id": "zjCBk1BI8DC1",
        "outputId": "f5ea4600-7cb1-4393-8e3c-b3b28745a922"
      },
      "outputs": [
        {
          "data": {
            "text/html": [
              "<div>\n",
              "<style scoped>\n",
              "    .dataframe tbody tr th:only-of-type {\n",
              "        vertical-align: middle;\n",
              "    }\n",
              "\n",
              "    .dataframe tbody tr th {\n",
              "        vertical-align: top;\n",
              "    }\n",
              "\n",
              "    .dataframe thead th {\n",
              "        text-align: right;\n",
              "    }\n",
              "</style>\n",
              "<table border=\"1\" class=\"dataframe\">\n",
              "  <thead>\n",
              "    <tr style=\"text-align: right;\">\n",
              "      <th></th>\n",
              "      <th>instant</th>\n",
              "      <th>dteday</th>\n",
              "      <th>season</th>\n",
              "      <th>yr</th>\n",
              "      <th>mnth</th>\n",
              "      <th>holiday</th>\n",
              "      <th>weekday</th>\n",
              "      <th>workingday</th>\n",
              "      <th>weathersit</th>\n",
              "      <th>temp</th>\n",
              "      <th>atemp</th>\n",
              "      <th>hum</th>\n",
              "      <th>windspeed</th>\n",
              "      <th>casual</th>\n",
              "      <th>registered</th>\n",
              "      <th>cnt</th>\n",
              "    </tr>\n",
              "  </thead>\n",
              "  <tbody>\n",
              "    <tr>\n",
              "      <th>0</th>\n",
              "      <td>1</td>\n",
              "      <td>2011-01-01</td>\n",
              "      <td>1</td>\n",
              "      <td>0</td>\n",
              "      <td>1</td>\n",
              "      <td>0</td>\n",
              "      <td>6</td>\n",
              "      <td>0</td>\n",
              "      <td>2</td>\n",
              "      <td>0.344167</td>\n",
              "      <td>0.363625</td>\n",
              "      <td>0.805833</td>\n",
              "      <td>0.160446</td>\n",
              "      <td>331</td>\n",
              "      <td>654</td>\n",
              "      <td>985</td>\n",
              "    </tr>\n",
              "    <tr>\n",
              "      <th>1</th>\n",
              "      <td>2</td>\n",
              "      <td>2011-01-02</td>\n",
              "      <td>1</td>\n",
              "      <td>0</td>\n",
              "      <td>1</td>\n",
              "      <td>0</td>\n",
              "      <td>0</td>\n",
              "      <td>0</td>\n",
              "      <td>2</td>\n",
              "      <td>0.363478</td>\n",
              "      <td>0.353739</td>\n",
              "      <td>0.696087</td>\n",
              "      <td>0.248539</td>\n",
              "      <td>131</td>\n",
              "      <td>670</td>\n",
              "      <td>801</td>\n",
              "    </tr>\n",
              "    <tr>\n",
              "      <th>2</th>\n",
              "      <td>3</td>\n",
              "      <td>2011-01-03</td>\n",
              "      <td>1</td>\n",
              "      <td>0</td>\n",
              "      <td>1</td>\n",
              "      <td>0</td>\n",
              "      <td>1</td>\n",
              "      <td>1</td>\n",
              "      <td>1</td>\n",
              "      <td>0.196364</td>\n",
              "      <td>0.189405</td>\n",
              "      <td>0.437273</td>\n",
              "      <td>0.248309</td>\n",
              "      <td>120</td>\n",
              "      <td>1229</td>\n",
              "      <td>1349</td>\n",
              "    </tr>\n",
              "    <tr>\n",
              "      <th>3</th>\n",
              "      <td>4</td>\n",
              "      <td>2011-01-04</td>\n",
              "      <td>1</td>\n",
              "      <td>0</td>\n",
              "      <td>1</td>\n",
              "      <td>0</td>\n",
              "      <td>2</td>\n",
              "      <td>1</td>\n",
              "      <td>1</td>\n",
              "      <td>0.200000</td>\n",
              "      <td>0.212122</td>\n",
              "      <td>0.590435</td>\n",
              "      <td>0.160296</td>\n",
              "      <td>108</td>\n",
              "      <td>1454</td>\n",
              "      <td>1562</td>\n",
              "    </tr>\n",
              "    <tr>\n",
              "      <th>4</th>\n",
              "      <td>5</td>\n",
              "      <td>2011-01-05</td>\n",
              "      <td>1</td>\n",
              "      <td>0</td>\n",
              "      <td>1</td>\n",
              "      <td>0</td>\n",
              "      <td>3</td>\n",
              "      <td>1</td>\n",
              "      <td>1</td>\n",
              "      <td>0.226957</td>\n",
              "      <td>0.229270</td>\n",
              "      <td>0.436957</td>\n",
              "      <td>0.186900</td>\n",
              "      <td>82</td>\n",
              "      <td>1518</td>\n",
              "      <td>1600</td>\n",
              "    </tr>\n",
              "  </tbody>\n",
              "</table>\n",
              "</div>"
            ],
            "text/plain": [
              "   instant      dteday  season  yr  mnth  holiday  weekday  workingday  \\\n",
              "0        1  2011-01-01       1   0     1        0        6           0   \n",
              "1        2  2011-01-02       1   0     1        0        0           0   \n",
              "2        3  2011-01-03       1   0     1        0        1           1   \n",
              "3        4  2011-01-04       1   0     1        0        2           1   \n",
              "4        5  2011-01-05       1   0     1        0        3           1   \n",
              "\n",
              "   weathersit      temp     atemp       hum  windspeed  casual  registered  \\\n",
              "0           2  0.344167  0.363625  0.805833   0.160446     331         654   \n",
              "1           2  0.363478  0.353739  0.696087   0.248539     131         670   \n",
              "2           1  0.196364  0.189405  0.437273   0.248309     120        1229   \n",
              "3           1  0.200000  0.212122  0.590435   0.160296     108        1454   \n",
              "4           1  0.226957  0.229270  0.436957   0.186900      82        1518   \n",
              "\n",
              "    cnt  \n",
              "0   985  \n",
              "1   801  \n",
              "2  1349  \n",
              "3  1562  \n",
              "4  1600  "
            ]
          },
          "execution_count": 2,
          "metadata": {},
          "output_type": "execute_result"
        }
      ],
      "source": [
        "day_df = pd.read_csv(\"https://raw.githubusercontent.com/sariwati08/dicoding/main/day.csv\")\n",
        "day_df.head()"
      ]
    },
    {
      "cell_type": "markdown",
      "metadata": {
        "id": "xI5km81MHHeD"
      },
      "source": [
        "*akan dihasilkan 5 baris pertama dari DataFrame day_df*"
      ]
    },
    {
      "cell_type": "markdown",
      "metadata": {
        "id": "pYYLTrBKBJfj"
      },
      "source": [
        "*2. Memuat tabel hour*"
      ]
    },
    {
      "cell_type": "code",
      "execution_count": 3,
      "metadata": {
        "colab": {
          "base_uri": "https://localhost:8080/",
          "height": 313
        },
        "id": "48Ib9tfm12Jh",
        "outputId": "0dd21f92-98a8-4dc5-ea82-1ef994f80364"
      },
      "outputs": [
        {
          "data": {
            "text/html": [
              "<div>\n",
              "<style scoped>\n",
              "    .dataframe tbody tr th:only-of-type {\n",
              "        vertical-align: middle;\n",
              "    }\n",
              "\n",
              "    .dataframe tbody tr th {\n",
              "        vertical-align: top;\n",
              "    }\n",
              "\n",
              "    .dataframe thead th {\n",
              "        text-align: right;\n",
              "    }\n",
              "</style>\n",
              "<table border=\"1\" class=\"dataframe\">\n",
              "  <thead>\n",
              "    <tr style=\"text-align: right;\">\n",
              "      <th></th>\n",
              "      <th>instant</th>\n",
              "      <th>dteday</th>\n",
              "      <th>season</th>\n",
              "      <th>yr</th>\n",
              "      <th>mnth</th>\n",
              "      <th>hr</th>\n",
              "      <th>holiday</th>\n",
              "      <th>weekday</th>\n",
              "      <th>workingday</th>\n",
              "      <th>weathersit</th>\n",
              "      <th>temp</th>\n",
              "      <th>atemp</th>\n",
              "      <th>hum</th>\n",
              "      <th>windspeed</th>\n",
              "      <th>casual</th>\n",
              "      <th>registered</th>\n",
              "      <th>cnt</th>\n",
              "    </tr>\n",
              "  </thead>\n",
              "  <tbody>\n",
              "    <tr>\n",
              "      <th>0</th>\n",
              "      <td>1</td>\n",
              "      <td>2011-01-01</td>\n",
              "      <td>1</td>\n",
              "      <td>0</td>\n",
              "      <td>1</td>\n",
              "      <td>0</td>\n",
              "      <td>0</td>\n",
              "      <td>6</td>\n",
              "      <td>0</td>\n",
              "      <td>1</td>\n",
              "      <td>0.24</td>\n",
              "      <td>0.2879</td>\n",
              "      <td>0.81</td>\n",
              "      <td>0.0</td>\n",
              "      <td>3</td>\n",
              "      <td>13</td>\n",
              "      <td>16</td>\n",
              "    </tr>\n",
              "    <tr>\n",
              "      <th>1</th>\n",
              "      <td>2</td>\n",
              "      <td>2011-01-01</td>\n",
              "      <td>1</td>\n",
              "      <td>0</td>\n",
              "      <td>1</td>\n",
              "      <td>1</td>\n",
              "      <td>0</td>\n",
              "      <td>6</td>\n",
              "      <td>0</td>\n",
              "      <td>1</td>\n",
              "      <td>0.22</td>\n",
              "      <td>0.2727</td>\n",
              "      <td>0.80</td>\n",
              "      <td>0.0</td>\n",
              "      <td>8</td>\n",
              "      <td>32</td>\n",
              "      <td>40</td>\n",
              "    </tr>\n",
              "    <tr>\n",
              "      <th>2</th>\n",
              "      <td>3</td>\n",
              "      <td>2011-01-01</td>\n",
              "      <td>1</td>\n",
              "      <td>0</td>\n",
              "      <td>1</td>\n",
              "      <td>2</td>\n",
              "      <td>0</td>\n",
              "      <td>6</td>\n",
              "      <td>0</td>\n",
              "      <td>1</td>\n",
              "      <td>0.22</td>\n",
              "      <td>0.2727</td>\n",
              "      <td>0.80</td>\n",
              "      <td>0.0</td>\n",
              "      <td>5</td>\n",
              "      <td>27</td>\n",
              "      <td>32</td>\n",
              "    </tr>\n",
              "    <tr>\n",
              "      <th>3</th>\n",
              "      <td>4</td>\n",
              "      <td>2011-01-01</td>\n",
              "      <td>1</td>\n",
              "      <td>0</td>\n",
              "      <td>1</td>\n",
              "      <td>3</td>\n",
              "      <td>0</td>\n",
              "      <td>6</td>\n",
              "      <td>0</td>\n",
              "      <td>1</td>\n",
              "      <td>0.24</td>\n",
              "      <td>0.2879</td>\n",
              "      <td>0.75</td>\n",
              "      <td>0.0</td>\n",
              "      <td>3</td>\n",
              "      <td>10</td>\n",
              "      <td>13</td>\n",
              "    </tr>\n",
              "    <tr>\n",
              "      <th>4</th>\n",
              "      <td>5</td>\n",
              "      <td>2011-01-01</td>\n",
              "      <td>1</td>\n",
              "      <td>0</td>\n",
              "      <td>1</td>\n",
              "      <td>4</td>\n",
              "      <td>0</td>\n",
              "      <td>6</td>\n",
              "      <td>0</td>\n",
              "      <td>1</td>\n",
              "      <td>0.24</td>\n",
              "      <td>0.2879</td>\n",
              "      <td>0.75</td>\n",
              "      <td>0.0</td>\n",
              "      <td>0</td>\n",
              "      <td>1</td>\n",
              "      <td>1</td>\n",
              "    </tr>\n",
              "  </tbody>\n",
              "</table>\n",
              "</div>"
            ],
            "text/plain": [
              "   instant      dteday  season  yr  mnth  hr  holiday  weekday  workingday  \\\n",
              "0        1  2011-01-01       1   0     1   0        0        6           0   \n",
              "1        2  2011-01-01       1   0     1   1        0        6           0   \n",
              "2        3  2011-01-01       1   0     1   2        0        6           0   \n",
              "3        4  2011-01-01       1   0     1   3        0        6           0   \n",
              "4        5  2011-01-01       1   0     1   4        0        6           0   \n",
              "\n",
              "   weathersit  temp   atemp   hum  windspeed  casual  registered  cnt  \n",
              "0           1  0.24  0.2879  0.81        0.0       3          13   16  \n",
              "1           1  0.22  0.2727  0.80        0.0       8          32   40  \n",
              "2           1  0.22  0.2727  0.80        0.0       5          27   32  \n",
              "3           1  0.24  0.2879  0.75        0.0       3          10   13  \n",
              "4           1  0.24  0.2879  0.75        0.0       0           1    1  "
            ]
          },
          "execution_count": 3,
          "metadata": {},
          "output_type": "execute_result"
        }
      ],
      "source": [
        "hour_df = pd.read_csv(\"https://raw.githubusercontent.com/sariwati08/dicoding/main/hour.csv\")\n",
        "hour_df.head()"
      ]
    },
    {
      "cell_type": "markdown",
      "metadata": {
        "id": "qADYlTkZHPGB"
      },
      "source": [
        "*akan dihasilkan 5 baris pertama dari DataFrame hour_df*"
      ]
    },
    {
      "cell_type": "markdown",
      "metadata": {
        "id": "FHSiqaZp8DC1"
      },
      "source": [
        "### Assessing Data"
      ]
    },
    {
      "cell_type": "markdown",
      "metadata": {
        "id": "2ecjAHW6E7WM"
      },
      "source": [
        "*Masuk pada tahap kedua, dimana proses ini kita akan menilai kuaitas dari seluruh data yang akan digunakan.*"
      ]
    },
    {
      "cell_type": "markdown",
      "metadata": {
        "id": "0ltnQ8HNBTp4"
      },
      "source": [
        "*1. memeriksa tipe data dari tiap kolom yang terdapat dalam day_df*"
      ]
    },
    {
      "cell_type": "code",
      "execution_count": 4,
      "metadata": {
        "colab": {
          "base_uri": "https://localhost:8080/"
        },
        "id": "ax-3tEjc9Cj1",
        "outputId": "e0671310-7664-40f0-fc9d-9cd33069bd2b"
      },
      "outputs": [
        {
          "name": "stdout",
          "output_type": "stream",
          "text": [
            "<class 'pandas.core.frame.DataFrame'>\n",
            "RangeIndex: 731 entries, 0 to 730\n",
            "Data columns (total 16 columns):\n",
            " #   Column      Non-Null Count  Dtype  \n",
            "---  ------      --------------  -----  \n",
            " 0   instant     731 non-null    int64  \n",
            " 1   dteday      731 non-null    object \n",
            " 2   season      731 non-null    int64  \n",
            " 3   yr          731 non-null    int64  \n",
            " 4   mnth        731 non-null    int64  \n",
            " 5   holiday     731 non-null    int64  \n",
            " 6   weekday     731 non-null    int64  \n",
            " 7   workingday  731 non-null    int64  \n",
            " 8   weathersit  731 non-null    int64  \n",
            " 9   temp        731 non-null    float64\n",
            " 10  atemp       731 non-null    float64\n",
            " 11  hum         731 non-null    float64\n",
            " 12  windspeed   731 non-null    float64\n",
            " 13  casual      731 non-null    int64  \n",
            " 14  registered  731 non-null    int64  \n",
            " 15  cnt         731 non-null    int64  \n",
            "dtypes: float64(4), int64(11), object(1)\n",
            "memory usage: 91.5+ KB\n"
          ]
        }
      ],
      "source": [
        "day_df.info()"
      ]
    },
    {
      "cell_type": "markdown",
      "metadata": {
        "id": "YfdyivZ65wjJ"
      },
      "source": [
        "*Jumlah data pada kolom memiliki nilai yang sama sehingga menunjukkan tidak terdapat adanya missing value. Namun, pada dteday harusnya direpresentasikan sebagai tipe data datetime, bukan object.*"
      ]
    },
    {
      "cell_type": "markdown",
      "metadata": {
        "id": "SjUjB33_B35g"
      },
      "source": [
        "*2. lalu akan ditampilkan parameter statistiknya*"
      ]
    },
    {
      "cell_type": "code",
      "execution_count": 5,
      "metadata": {
        "colab": {
          "base_uri": "https://localhost:8080/",
          "height": 320
        },
        "id": "nB1Ufm1G2qCy",
        "outputId": "d17c5297-3ae4-409a-adc6-cbd1d6de0edc"
      },
      "outputs": [
        {
          "data": {
            "text/html": [
              "<div>\n",
              "<style scoped>\n",
              "    .dataframe tbody tr th:only-of-type {\n",
              "        vertical-align: middle;\n",
              "    }\n",
              "\n",
              "    .dataframe tbody tr th {\n",
              "        vertical-align: top;\n",
              "    }\n",
              "\n",
              "    .dataframe thead th {\n",
              "        text-align: right;\n",
              "    }\n",
              "</style>\n",
              "<table border=\"1\" class=\"dataframe\">\n",
              "  <thead>\n",
              "    <tr style=\"text-align: right;\">\n",
              "      <th></th>\n",
              "      <th>instant</th>\n",
              "      <th>season</th>\n",
              "      <th>yr</th>\n",
              "      <th>mnth</th>\n",
              "      <th>holiday</th>\n",
              "      <th>weekday</th>\n",
              "      <th>workingday</th>\n",
              "      <th>weathersit</th>\n",
              "      <th>temp</th>\n",
              "      <th>atemp</th>\n",
              "      <th>hum</th>\n",
              "      <th>windspeed</th>\n",
              "      <th>casual</th>\n",
              "      <th>registered</th>\n",
              "      <th>cnt</th>\n",
              "    </tr>\n",
              "  </thead>\n",
              "  <tbody>\n",
              "    <tr>\n",
              "      <th>count</th>\n",
              "      <td>731.000000</td>\n",
              "      <td>731.000000</td>\n",
              "      <td>731.000000</td>\n",
              "      <td>731.000000</td>\n",
              "      <td>731.000000</td>\n",
              "      <td>731.000000</td>\n",
              "      <td>731.000000</td>\n",
              "      <td>731.000000</td>\n",
              "      <td>731.000000</td>\n",
              "      <td>731.000000</td>\n",
              "      <td>731.000000</td>\n",
              "      <td>731.000000</td>\n",
              "      <td>731.000000</td>\n",
              "      <td>731.000000</td>\n",
              "      <td>731.000000</td>\n",
              "    </tr>\n",
              "    <tr>\n",
              "      <th>mean</th>\n",
              "      <td>366.000000</td>\n",
              "      <td>2.496580</td>\n",
              "      <td>0.500684</td>\n",
              "      <td>6.519836</td>\n",
              "      <td>0.028728</td>\n",
              "      <td>2.997264</td>\n",
              "      <td>0.683995</td>\n",
              "      <td>1.395349</td>\n",
              "      <td>0.495385</td>\n",
              "      <td>0.474354</td>\n",
              "      <td>0.627894</td>\n",
              "      <td>0.190486</td>\n",
              "      <td>848.176471</td>\n",
              "      <td>3656.172367</td>\n",
              "      <td>4504.348837</td>\n",
              "    </tr>\n",
              "    <tr>\n",
              "      <th>std</th>\n",
              "      <td>211.165812</td>\n",
              "      <td>1.110807</td>\n",
              "      <td>0.500342</td>\n",
              "      <td>3.451913</td>\n",
              "      <td>0.167155</td>\n",
              "      <td>2.004787</td>\n",
              "      <td>0.465233</td>\n",
              "      <td>0.544894</td>\n",
              "      <td>0.183051</td>\n",
              "      <td>0.162961</td>\n",
              "      <td>0.142429</td>\n",
              "      <td>0.077498</td>\n",
              "      <td>686.622488</td>\n",
              "      <td>1560.256377</td>\n",
              "      <td>1937.211452</td>\n",
              "    </tr>\n",
              "    <tr>\n",
              "      <th>min</th>\n",
              "      <td>1.000000</td>\n",
              "      <td>1.000000</td>\n",
              "      <td>0.000000</td>\n",
              "      <td>1.000000</td>\n",
              "      <td>0.000000</td>\n",
              "      <td>0.000000</td>\n",
              "      <td>0.000000</td>\n",
              "      <td>1.000000</td>\n",
              "      <td>0.059130</td>\n",
              "      <td>0.079070</td>\n",
              "      <td>0.000000</td>\n",
              "      <td>0.022392</td>\n",
              "      <td>2.000000</td>\n",
              "      <td>20.000000</td>\n",
              "      <td>22.000000</td>\n",
              "    </tr>\n",
              "    <tr>\n",
              "      <th>25%</th>\n",
              "      <td>183.500000</td>\n",
              "      <td>2.000000</td>\n",
              "      <td>0.000000</td>\n",
              "      <td>4.000000</td>\n",
              "      <td>0.000000</td>\n",
              "      <td>1.000000</td>\n",
              "      <td>0.000000</td>\n",
              "      <td>1.000000</td>\n",
              "      <td>0.337083</td>\n",
              "      <td>0.337842</td>\n",
              "      <td>0.520000</td>\n",
              "      <td>0.134950</td>\n",
              "      <td>315.500000</td>\n",
              "      <td>2497.000000</td>\n",
              "      <td>3152.000000</td>\n",
              "    </tr>\n",
              "    <tr>\n",
              "      <th>50%</th>\n",
              "      <td>366.000000</td>\n",
              "      <td>3.000000</td>\n",
              "      <td>1.000000</td>\n",
              "      <td>7.000000</td>\n",
              "      <td>0.000000</td>\n",
              "      <td>3.000000</td>\n",
              "      <td>1.000000</td>\n",
              "      <td>1.000000</td>\n",
              "      <td>0.498333</td>\n",
              "      <td>0.486733</td>\n",
              "      <td>0.626667</td>\n",
              "      <td>0.180975</td>\n",
              "      <td>713.000000</td>\n",
              "      <td>3662.000000</td>\n",
              "      <td>4548.000000</td>\n",
              "    </tr>\n",
              "    <tr>\n",
              "      <th>75%</th>\n",
              "      <td>548.500000</td>\n",
              "      <td>3.000000</td>\n",
              "      <td>1.000000</td>\n",
              "      <td>10.000000</td>\n",
              "      <td>0.000000</td>\n",
              "      <td>5.000000</td>\n",
              "      <td>1.000000</td>\n",
              "      <td>2.000000</td>\n",
              "      <td>0.655417</td>\n",
              "      <td>0.608602</td>\n",
              "      <td>0.730209</td>\n",
              "      <td>0.233214</td>\n",
              "      <td>1096.000000</td>\n",
              "      <td>4776.500000</td>\n",
              "      <td>5956.000000</td>\n",
              "    </tr>\n",
              "    <tr>\n",
              "      <th>max</th>\n",
              "      <td>731.000000</td>\n",
              "      <td>4.000000</td>\n",
              "      <td>1.000000</td>\n",
              "      <td>12.000000</td>\n",
              "      <td>1.000000</td>\n",
              "      <td>6.000000</td>\n",
              "      <td>1.000000</td>\n",
              "      <td>3.000000</td>\n",
              "      <td>0.861667</td>\n",
              "      <td>0.840896</td>\n",
              "      <td>0.972500</td>\n",
              "      <td>0.507463</td>\n",
              "      <td>3410.000000</td>\n",
              "      <td>6946.000000</td>\n",
              "      <td>8714.000000</td>\n",
              "    </tr>\n",
              "  </tbody>\n",
              "</table>\n",
              "</div>"
            ],
            "text/plain": [
              "          instant      season          yr        mnth     holiday     weekday  \\\n",
              "count  731.000000  731.000000  731.000000  731.000000  731.000000  731.000000   \n",
              "mean   366.000000    2.496580    0.500684    6.519836    0.028728    2.997264   \n",
              "std    211.165812    1.110807    0.500342    3.451913    0.167155    2.004787   \n",
              "min      1.000000    1.000000    0.000000    1.000000    0.000000    0.000000   \n",
              "25%    183.500000    2.000000    0.000000    4.000000    0.000000    1.000000   \n",
              "50%    366.000000    3.000000    1.000000    7.000000    0.000000    3.000000   \n",
              "75%    548.500000    3.000000    1.000000   10.000000    0.000000    5.000000   \n",
              "max    731.000000    4.000000    1.000000   12.000000    1.000000    6.000000   \n",
              "\n",
              "       workingday  weathersit        temp       atemp         hum   windspeed  \\\n",
              "count  731.000000  731.000000  731.000000  731.000000  731.000000  731.000000   \n",
              "mean     0.683995    1.395349    0.495385    0.474354    0.627894    0.190486   \n",
              "std      0.465233    0.544894    0.183051    0.162961    0.142429    0.077498   \n",
              "min      0.000000    1.000000    0.059130    0.079070    0.000000    0.022392   \n",
              "25%      0.000000    1.000000    0.337083    0.337842    0.520000    0.134950   \n",
              "50%      1.000000    1.000000    0.498333    0.486733    0.626667    0.180975   \n",
              "75%      1.000000    2.000000    0.655417    0.608602    0.730209    0.233214   \n",
              "max      1.000000    3.000000    0.861667    0.840896    0.972500    0.507463   \n",
              "\n",
              "            casual   registered          cnt  \n",
              "count   731.000000   731.000000   731.000000  \n",
              "mean    848.176471  3656.172367  4504.348837  \n",
              "std     686.622488  1560.256377  1937.211452  \n",
              "min       2.000000    20.000000    22.000000  \n",
              "25%     315.500000  2497.000000  3152.000000  \n",
              "50%     713.000000  3662.000000  4548.000000  \n",
              "75%    1096.000000  4776.500000  5956.000000  \n",
              "max    3410.000000  6946.000000  8714.000000  "
            ]
          },
          "execution_count": 5,
          "metadata": {},
          "output_type": "execute_result"
        }
      ],
      "source": [
        "day_df.describe()"
      ]
    },
    {
      "cell_type": "markdown",
      "metadata": {
        "id": "18dTTyU76vpd"
      },
      "source": [
        "*Tidak terdapat keanehan pada parameter statistik day seperti inaccurate value*"
      ]
    },
    {
      "cell_type": "markdown",
      "metadata": {
        "id": "vXg2sbGACgrB"
      },
      "source": [
        "*3. Selanjutnya memeriksa tipe data dari tiap kolom pada hour menggunakan method info()*"
      ]
    },
    {
      "cell_type": "code",
      "execution_count": 6,
      "metadata": {
        "colab": {
          "base_uri": "https://localhost:8080/"
        },
        "id": "ODQSVmax24WD",
        "outputId": "b16512b0-28c4-42fd-8567-60f3e7328487"
      },
      "outputs": [
        {
          "name": "stdout",
          "output_type": "stream",
          "text": [
            "<class 'pandas.core.frame.DataFrame'>\n",
            "RangeIndex: 17379 entries, 0 to 17378\n",
            "Data columns (total 17 columns):\n",
            " #   Column      Non-Null Count  Dtype  \n",
            "---  ------      --------------  -----  \n",
            " 0   instant     17379 non-null  int64  \n",
            " 1   dteday      17379 non-null  object \n",
            " 2   season      17379 non-null  int64  \n",
            " 3   yr          17379 non-null  int64  \n",
            " 4   mnth        17379 non-null  int64  \n",
            " 5   hr          17379 non-null  int64  \n",
            " 6   holiday     17379 non-null  int64  \n",
            " 7   weekday     17379 non-null  int64  \n",
            " 8   workingday  17379 non-null  int64  \n",
            " 9   weathersit  17379 non-null  int64  \n",
            " 10  temp        17379 non-null  float64\n",
            " 11  atemp       17379 non-null  float64\n",
            " 12  hum         17379 non-null  float64\n",
            " 13  windspeed   17379 non-null  float64\n",
            " 14  casual      17379 non-null  int64  \n",
            " 15  registered  17379 non-null  int64  \n",
            " 16  cnt         17379 non-null  int64  \n",
            "dtypes: float64(4), int64(12), object(1)\n",
            "memory usage: 2.3+ MB\n"
          ]
        }
      ],
      "source": [
        "hour_df.info()"
      ]
    },
    {
      "cell_type": "markdown",
      "metadata": {
        "id": "BkUe83395bda"
      },
      "source": [
        "*Jumlah data pada kolom memiliki nilai yang sama sehingga menunjukkan tidak terdapat adanya missing value. Namun, pada dteday harusnya direpresentasikan sebagai tipe data datetime, bukan object.*"
      ]
    },
    {
      "cell_type": "markdown",
      "metadata": {
        "id": "tCkmhuWaG2tr"
      },
      "source": [
        "*4. lalu akan ditampilkan parameter statistiknya*"
      ]
    },
    {
      "cell_type": "code",
      "execution_count": 7,
      "metadata": {
        "colab": {
          "base_uri": "https://localhost:8080/",
          "height": 320
        },
        "id": "w_P74cDi3RwS",
        "outputId": "7ca48f96-1872-43fe-ce7a-b0769369c25e"
      },
      "outputs": [
        {
          "data": {
            "text/html": [
              "<div>\n",
              "<style scoped>\n",
              "    .dataframe tbody tr th:only-of-type {\n",
              "        vertical-align: middle;\n",
              "    }\n",
              "\n",
              "    .dataframe tbody tr th {\n",
              "        vertical-align: top;\n",
              "    }\n",
              "\n",
              "    .dataframe thead th {\n",
              "        text-align: right;\n",
              "    }\n",
              "</style>\n",
              "<table border=\"1\" class=\"dataframe\">\n",
              "  <thead>\n",
              "    <tr style=\"text-align: right;\">\n",
              "      <th></th>\n",
              "      <th>instant</th>\n",
              "      <th>season</th>\n",
              "      <th>yr</th>\n",
              "      <th>mnth</th>\n",
              "      <th>hr</th>\n",
              "      <th>holiday</th>\n",
              "      <th>weekday</th>\n",
              "      <th>workingday</th>\n",
              "      <th>weathersit</th>\n",
              "      <th>temp</th>\n",
              "      <th>atemp</th>\n",
              "      <th>hum</th>\n",
              "      <th>windspeed</th>\n",
              "      <th>casual</th>\n",
              "      <th>registered</th>\n",
              "      <th>cnt</th>\n",
              "    </tr>\n",
              "  </thead>\n",
              "  <tbody>\n",
              "    <tr>\n",
              "      <th>count</th>\n",
              "      <td>17379.0000</td>\n",
              "      <td>17379.000000</td>\n",
              "      <td>17379.000000</td>\n",
              "      <td>17379.000000</td>\n",
              "      <td>17379.000000</td>\n",
              "      <td>17379.000000</td>\n",
              "      <td>17379.000000</td>\n",
              "      <td>17379.000000</td>\n",
              "      <td>17379.000000</td>\n",
              "      <td>17379.000000</td>\n",
              "      <td>17379.000000</td>\n",
              "      <td>17379.000000</td>\n",
              "      <td>17379.000000</td>\n",
              "      <td>17379.000000</td>\n",
              "      <td>17379.000000</td>\n",
              "      <td>17379.000000</td>\n",
              "    </tr>\n",
              "    <tr>\n",
              "      <th>mean</th>\n",
              "      <td>8690.0000</td>\n",
              "      <td>2.501640</td>\n",
              "      <td>0.502561</td>\n",
              "      <td>6.537775</td>\n",
              "      <td>11.546752</td>\n",
              "      <td>0.028770</td>\n",
              "      <td>3.003683</td>\n",
              "      <td>0.682721</td>\n",
              "      <td>1.425283</td>\n",
              "      <td>0.496987</td>\n",
              "      <td>0.475775</td>\n",
              "      <td>0.627229</td>\n",
              "      <td>0.190098</td>\n",
              "      <td>35.676218</td>\n",
              "      <td>153.786869</td>\n",
              "      <td>189.463088</td>\n",
              "    </tr>\n",
              "    <tr>\n",
              "      <th>std</th>\n",
              "      <td>5017.0295</td>\n",
              "      <td>1.106918</td>\n",
              "      <td>0.500008</td>\n",
              "      <td>3.438776</td>\n",
              "      <td>6.914405</td>\n",
              "      <td>0.167165</td>\n",
              "      <td>2.005771</td>\n",
              "      <td>0.465431</td>\n",
              "      <td>0.639357</td>\n",
              "      <td>0.192556</td>\n",
              "      <td>0.171850</td>\n",
              "      <td>0.192930</td>\n",
              "      <td>0.122340</td>\n",
              "      <td>49.305030</td>\n",
              "      <td>151.357286</td>\n",
              "      <td>181.387599</td>\n",
              "    </tr>\n",
              "    <tr>\n",
              "      <th>min</th>\n",
              "      <td>1.0000</td>\n",
              "      <td>1.000000</td>\n",
              "      <td>0.000000</td>\n",
              "      <td>1.000000</td>\n",
              "      <td>0.000000</td>\n",
              "      <td>0.000000</td>\n",
              "      <td>0.000000</td>\n",
              "      <td>0.000000</td>\n",
              "      <td>1.000000</td>\n",
              "      <td>0.020000</td>\n",
              "      <td>0.000000</td>\n",
              "      <td>0.000000</td>\n",
              "      <td>0.000000</td>\n",
              "      <td>0.000000</td>\n",
              "      <td>0.000000</td>\n",
              "      <td>1.000000</td>\n",
              "    </tr>\n",
              "    <tr>\n",
              "      <th>25%</th>\n",
              "      <td>4345.5000</td>\n",
              "      <td>2.000000</td>\n",
              "      <td>0.000000</td>\n",
              "      <td>4.000000</td>\n",
              "      <td>6.000000</td>\n",
              "      <td>0.000000</td>\n",
              "      <td>1.000000</td>\n",
              "      <td>0.000000</td>\n",
              "      <td>1.000000</td>\n",
              "      <td>0.340000</td>\n",
              "      <td>0.333300</td>\n",
              "      <td>0.480000</td>\n",
              "      <td>0.104500</td>\n",
              "      <td>4.000000</td>\n",
              "      <td>34.000000</td>\n",
              "      <td>40.000000</td>\n",
              "    </tr>\n",
              "    <tr>\n",
              "      <th>50%</th>\n",
              "      <td>8690.0000</td>\n",
              "      <td>3.000000</td>\n",
              "      <td>1.000000</td>\n",
              "      <td>7.000000</td>\n",
              "      <td>12.000000</td>\n",
              "      <td>0.000000</td>\n",
              "      <td>3.000000</td>\n",
              "      <td>1.000000</td>\n",
              "      <td>1.000000</td>\n",
              "      <td>0.500000</td>\n",
              "      <td>0.484800</td>\n",
              "      <td>0.630000</td>\n",
              "      <td>0.194000</td>\n",
              "      <td>17.000000</td>\n",
              "      <td>115.000000</td>\n",
              "      <td>142.000000</td>\n",
              "    </tr>\n",
              "    <tr>\n",
              "      <th>75%</th>\n",
              "      <td>13034.5000</td>\n",
              "      <td>3.000000</td>\n",
              "      <td>1.000000</td>\n",
              "      <td>10.000000</td>\n",
              "      <td>18.000000</td>\n",
              "      <td>0.000000</td>\n",
              "      <td>5.000000</td>\n",
              "      <td>1.000000</td>\n",
              "      <td>2.000000</td>\n",
              "      <td>0.660000</td>\n",
              "      <td>0.621200</td>\n",
              "      <td>0.780000</td>\n",
              "      <td>0.253700</td>\n",
              "      <td>48.000000</td>\n",
              "      <td>220.000000</td>\n",
              "      <td>281.000000</td>\n",
              "    </tr>\n",
              "    <tr>\n",
              "      <th>max</th>\n",
              "      <td>17379.0000</td>\n",
              "      <td>4.000000</td>\n",
              "      <td>1.000000</td>\n",
              "      <td>12.000000</td>\n",
              "      <td>23.000000</td>\n",
              "      <td>1.000000</td>\n",
              "      <td>6.000000</td>\n",
              "      <td>1.000000</td>\n",
              "      <td>4.000000</td>\n",
              "      <td>1.000000</td>\n",
              "      <td>1.000000</td>\n",
              "      <td>1.000000</td>\n",
              "      <td>0.850700</td>\n",
              "      <td>367.000000</td>\n",
              "      <td>886.000000</td>\n",
              "      <td>977.000000</td>\n",
              "    </tr>\n",
              "  </tbody>\n",
              "</table>\n",
              "</div>"
            ],
            "text/plain": [
              "          instant        season            yr          mnth            hr  \\\n",
              "count  17379.0000  17379.000000  17379.000000  17379.000000  17379.000000   \n",
              "mean    8690.0000      2.501640      0.502561      6.537775     11.546752   \n",
              "std     5017.0295      1.106918      0.500008      3.438776      6.914405   \n",
              "min        1.0000      1.000000      0.000000      1.000000      0.000000   \n",
              "25%     4345.5000      2.000000      0.000000      4.000000      6.000000   \n",
              "50%     8690.0000      3.000000      1.000000      7.000000     12.000000   \n",
              "75%    13034.5000      3.000000      1.000000     10.000000     18.000000   \n",
              "max    17379.0000      4.000000      1.000000     12.000000     23.000000   \n",
              "\n",
              "            holiday       weekday    workingday    weathersit          temp  \\\n",
              "count  17379.000000  17379.000000  17379.000000  17379.000000  17379.000000   \n",
              "mean       0.028770      3.003683      0.682721      1.425283      0.496987   \n",
              "std        0.167165      2.005771      0.465431      0.639357      0.192556   \n",
              "min        0.000000      0.000000      0.000000      1.000000      0.020000   \n",
              "25%        0.000000      1.000000      0.000000      1.000000      0.340000   \n",
              "50%        0.000000      3.000000      1.000000      1.000000      0.500000   \n",
              "75%        0.000000      5.000000      1.000000      2.000000      0.660000   \n",
              "max        1.000000      6.000000      1.000000      4.000000      1.000000   \n",
              "\n",
              "              atemp           hum     windspeed        casual    registered  \\\n",
              "count  17379.000000  17379.000000  17379.000000  17379.000000  17379.000000   \n",
              "mean       0.475775      0.627229      0.190098     35.676218    153.786869   \n",
              "std        0.171850      0.192930      0.122340     49.305030    151.357286   \n",
              "min        0.000000      0.000000      0.000000      0.000000      0.000000   \n",
              "25%        0.333300      0.480000      0.104500      4.000000     34.000000   \n",
              "50%        0.484800      0.630000      0.194000     17.000000    115.000000   \n",
              "75%        0.621200      0.780000      0.253700     48.000000    220.000000   \n",
              "max        1.000000      1.000000      0.850700    367.000000    886.000000   \n",
              "\n",
              "                cnt  \n",
              "count  17379.000000  \n",
              "mean     189.463088  \n",
              "std      181.387599  \n",
              "min        1.000000  \n",
              "25%       40.000000  \n",
              "50%      142.000000  \n",
              "75%      281.000000  \n",
              "max      977.000000  "
            ]
          },
          "execution_count": 7,
          "metadata": {},
          "output_type": "execute_result"
        }
      ],
      "source": [
        "hour_df.describe()"
      ]
    },
    {
      "cell_type": "markdown",
      "metadata": {
        "id": "SxMwK8Xh9Aod"
      },
      "source": [
        "*Tidak terdapat keanehan pada parameter statistik hour seperti inaccurate value.*"
      ]
    },
    {
      "cell_type": "markdown",
      "metadata": {
        "id": "EhN5R4hr8DC1"
      },
      "source": [
        "### Cleaning Data"
      ]
    },
    {
      "cell_type": "markdown",
      "metadata": {
        "id": "pZB1ZlAJFH7F"
      },
      "source": [
        "*Masuk pada proses terakhir, dimana pada proses ini kita akan membersihkan berbagai masalah yang telah terindetifikasi dalam proses assessing data*"
      ]
    },
    {
      "cell_type": "markdown",
      "metadata": {
        "id": "DCy6TH9O_OZI"
      },
      "source": [
        "*1. Kode dibawah dapat mengubah tipe data pada kolom dteday menjadi datetime pada tabel day*"
      ]
    },
    {
      "cell_type": "code",
      "execution_count": 8,
      "metadata": {
        "id": "VvbBj1Hz2Tvq"
      },
      "outputs": [],
      "source": [
        "datetime_columns = [\"dteday\"]\n",
        "\n",
        "for column in datetime_columns:\n",
        "  day_df[column] = pd.to_datetime(day_df[column])"
      ]
    },
    {
      "cell_type": "markdown",
      "metadata": {
        "id": "abeN3pSwFb7J"
      },
      "source": [
        "*2. Untuk melihat kembali tipe data tersebut dapat menggunakan method info()*"
      ]
    },
    {
      "cell_type": "code",
      "execution_count": 9,
      "metadata": {
        "colab": {
          "base_uri": "https://localhost:8080/"
        },
        "id": "04MB5_Mt_aYV",
        "outputId": "777c1683-aa7b-4490-f4ad-eb1ae835c5ff"
      },
      "outputs": [
        {
          "name": "stdout",
          "output_type": "stream",
          "text": [
            "<class 'pandas.core.frame.DataFrame'>\n",
            "RangeIndex: 731 entries, 0 to 730\n",
            "Data columns (total 16 columns):\n",
            " #   Column      Non-Null Count  Dtype         \n",
            "---  ------      --------------  -----         \n",
            " 0   instant     731 non-null    int64         \n",
            " 1   dteday      731 non-null    datetime64[ns]\n",
            " 2   season      731 non-null    int64         \n",
            " 3   yr          731 non-null    int64         \n",
            " 4   mnth        731 non-null    int64         \n",
            " 5   holiday     731 non-null    int64         \n",
            " 6   weekday     731 non-null    int64         \n",
            " 7   workingday  731 non-null    int64         \n",
            " 8   weathersit  731 non-null    int64         \n",
            " 9   temp        731 non-null    float64       \n",
            " 10  atemp       731 non-null    float64       \n",
            " 11  hum         731 non-null    float64       \n",
            " 12  windspeed   731 non-null    float64       \n",
            " 13  casual      731 non-null    int64         \n",
            " 14  registered  731 non-null    int64         \n",
            " 15  cnt         731 non-null    int64         \n",
            "dtypes: datetime64[ns](1), float64(4), int64(11)\n",
            "memory usage: 91.5 KB\n"
          ]
        }
      ],
      "source": [
        "day_df.info()"
      ]
    },
    {
      "cell_type": "markdown",
      "metadata": {
        "id": "mivFZuDHGatb"
      },
      "source": [
        "*pada kolom dteday, tipe data telah berubah menjadi date time*"
      ]
    },
    {
      "cell_type": "markdown",
      "metadata": {
        "id": "hTP5DY0iF9Uo"
      },
      "source": [
        "*3. Selanjutnya, Kode dibawah dapat mengubah tipe data pada kolom dteday menjadi datetime pada tabel HOUR*"
      ]
    },
    {
      "cell_type": "code",
      "execution_count": 10,
      "metadata": {
        "id": "GpH7lCCRFyQx"
      },
      "outputs": [],
      "source": [
        "datetime2_columns = [\"dteday\"]\n",
        "\n",
        "for column in datetime2_columns:\n",
        "  hour_df[column] = pd.to_datetime(hour_df[column])"
      ]
    },
    {
      "cell_type": "markdown",
      "metadata": {
        "id": "pOlUDvmnGOMM"
      },
      "source": [
        "*4. Untuk melihat kembali tipe data tersebut dapat menggunakan method info()*"
      ]
    },
    {
      "cell_type": "code",
      "execution_count": 11,
      "metadata": {
        "colab": {
          "base_uri": "https://localhost:8080/"
        },
        "id": "blDJtwiRGRpX",
        "outputId": "2aa5e996-f1e7-4b1f-8ecd-933795630a3e"
      },
      "outputs": [
        {
          "name": "stdout",
          "output_type": "stream",
          "text": [
            "<class 'pandas.core.frame.DataFrame'>\n",
            "RangeIndex: 17379 entries, 0 to 17378\n",
            "Data columns (total 17 columns):\n",
            " #   Column      Non-Null Count  Dtype         \n",
            "---  ------      --------------  -----         \n",
            " 0   instant     17379 non-null  int64         \n",
            " 1   dteday      17379 non-null  datetime64[ns]\n",
            " 2   season      17379 non-null  int64         \n",
            " 3   yr          17379 non-null  int64         \n",
            " 4   mnth        17379 non-null  int64         \n",
            " 5   hr          17379 non-null  int64         \n",
            " 6   holiday     17379 non-null  int64         \n",
            " 7   weekday     17379 non-null  int64         \n",
            " 8   workingday  17379 non-null  int64         \n",
            " 9   weathersit  17379 non-null  int64         \n",
            " 10  temp        17379 non-null  float64       \n",
            " 11  atemp       17379 non-null  float64       \n",
            " 12  hum         17379 non-null  float64       \n",
            " 13  windspeed   17379 non-null  float64       \n",
            " 14  casual      17379 non-null  int64         \n",
            " 15  registered  17379 non-null  int64         \n",
            " 16  cnt         17379 non-null  int64         \n",
            "dtypes: datetime64[ns](1), float64(4), int64(12)\n",
            "memory usage: 2.3 MB\n"
          ]
        }
      ],
      "source": [
        "hour_df.info()"
      ]
    },
    {
      "cell_type": "markdown",
      "metadata": {
        "id": "H6r7-XJrGkvO"
      },
      "source": [
        "*pada kolom dteday, tipe data telah berubah menjadi date time*"
      ]
    },
    {
      "cell_type": "markdown",
      "metadata": {
        "id": "gp-Y6wU38DC1"
      },
      "source": [
        "## Exploratory Data Analysis (EDA)"
      ]
    },
    {
      "cell_type": "markdown",
      "metadata": {
        "id": "MW7WF2kr8DC1"
      },
      "source": [
        "### Explore Data day_df"
      ]
    },
    {
      "cell_type": "markdown",
      "metadata": {
        "id": "rw13o3rUpjNo"
      },
      "source": [
        "*1. Sebagai permulaan, kita akan melihat rangkuman parameter statistik dari data day_df dengan menggunakan describe()*"
      ]
    },
    {
      "cell_type": "code",
      "execution_count": 12,
      "metadata": {
        "colab": {
          "base_uri": "https://localhost:8080/",
          "height": 616
        },
        "id": "1g9FxLt5oHlE",
        "outputId": "02a66775-26cb-4d5f-ccd0-17b6601553ba"
      },
      "outputs": [
        {
          "data": {
            "text/html": [
              "<div>\n",
              "<style scoped>\n",
              "    .dataframe tbody tr th:only-of-type {\n",
              "        vertical-align: middle;\n",
              "    }\n",
              "\n",
              "    .dataframe tbody tr th {\n",
              "        vertical-align: top;\n",
              "    }\n",
              "\n",
              "    .dataframe thead th {\n",
              "        text-align: right;\n",
              "    }\n",
              "</style>\n",
              "<table border=\"1\" class=\"dataframe\">\n",
              "  <thead>\n",
              "    <tr style=\"text-align: right;\">\n",
              "      <th></th>\n",
              "      <th>instant</th>\n",
              "      <th>dteday</th>\n",
              "      <th>season</th>\n",
              "      <th>yr</th>\n",
              "      <th>mnth</th>\n",
              "      <th>holiday</th>\n",
              "      <th>weekday</th>\n",
              "      <th>workingday</th>\n",
              "      <th>weathersit</th>\n",
              "      <th>temp</th>\n",
              "      <th>atemp</th>\n",
              "      <th>hum</th>\n",
              "      <th>windspeed</th>\n",
              "      <th>casual</th>\n",
              "      <th>registered</th>\n",
              "      <th>cnt</th>\n",
              "    </tr>\n",
              "  </thead>\n",
              "  <tbody>\n",
              "    <tr>\n",
              "      <th>count</th>\n",
              "      <td>731.000000</td>\n",
              "      <td>731</td>\n",
              "      <td>731.000000</td>\n",
              "      <td>731.000000</td>\n",
              "      <td>731.000000</td>\n",
              "      <td>731.000000</td>\n",
              "      <td>731.000000</td>\n",
              "      <td>731.000000</td>\n",
              "      <td>731.000000</td>\n",
              "      <td>731.000000</td>\n",
              "      <td>731.000000</td>\n",
              "      <td>731.000000</td>\n",
              "      <td>731.000000</td>\n",
              "      <td>731.000000</td>\n",
              "      <td>731.000000</td>\n",
              "      <td>731.000000</td>\n",
              "    </tr>\n",
              "    <tr>\n",
              "      <th>mean</th>\n",
              "      <td>366.000000</td>\n",
              "      <td>2012-01-01 00:00:00</td>\n",
              "      <td>2.496580</td>\n",
              "      <td>0.500684</td>\n",
              "      <td>6.519836</td>\n",
              "      <td>0.028728</td>\n",
              "      <td>2.997264</td>\n",
              "      <td>0.683995</td>\n",
              "      <td>1.395349</td>\n",
              "      <td>0.495385</td>\n",
              "      <td>0.474354</td>\n",
              "      <td>0.627894</td>\n",
              "      <td>0.190486</td>\n",
              "      <td>848.176471</td>\n",
              "      <td>3656.172367</td>\n",
              "      <td>4504.348837</td>\n",
              "    </tr>\n",
              "    <tr>\n",
              "      <th>min</th>\n",
              "      <td>1.000000</td>\n",
              "      <td>2011-01-01 00:00:00</td>\n",
              "      <td>1.000000</td>\n",
              "      <td>0.000000</td>\n",
              "      <td>1.000000</td>\n",
              "      <td>0.000000</td>\n",
              "      <td>0.000000</td>\n",
              "      <td>0.000000</td>\n",
              "      <td>1.000000</td>\n",
              "      <td>0.059130</td>\n",
              "      <td>0.079070</td>\n",
              "      <td>0.000000</td>\n",
              "      <td>0.022392</td>\n",
              "      <td>2.000000</td>\n",
              "      <td>20.000000</td>\n",
              "      <td>22.000000</td>\n",
              "    </tr>\n",
              "    <tr>\n",
              "      <th>25%</th>\n",
              "      <td>183.500000</td>\n",
              "      <td>2011-07-02 12:00:00</td>\n",
              "      <td>2.000000</td>\n",
              "      <td>0.000000</td>\n",
              "      <td>4.000000</td>\n",
              "      <td>0.000000</td>\n",
              "      <td>1.000000</td>\n",
              "      <td>0.000000</td>\n",
              "      <td>1.000000</td>\n",
              "      <td>0.337083</td>\n",
              "      <td>0.337842</td>\n",
              "      <td>0.520000</td>\n",
              "      <td>0.134950</td>\n",
              "      <td>315.500000</td>\n",
              "      <td>2497.000000</td>\n",
              "      <td>3152.000000</td>\n",
              "    </tr>\n",
              "    <tr>\n",
              "      <th>50%</th>\n",
              "      <td>366.000000</td>\n",
              "      <td>2012-01-01 00:00:00</td>\n",
              "      <td>3.000000</td>\n",
              "      <td>1.000000</td>\n",
              "      <td>7.000000</td>\n",
              "      <td>0.000000</td>\n",
              "      <td>3.000000</td>\n",
              "      <td>1.000000</td>\n",
              "      <td>1.000000</td>\n",
              "      <td>0.498333</td>\n",
              "      <td>0.486733</td>\n",
              "      <td>0.626667</td>\n",
              "      <td>0.180975</td>\n",
              "      <td>713.000000</td>\n",
              "      <td>3662.000000</td>\n",
              "      <td>4548.000000</td>\n",
              "    </tr>\n",
              "    <tr>\n",
              "      <th>75%</th>\n",
              "      <td>548.500000</td>\n",
              "      <td>2012-07-01 12:00:00</td>\n",
              "      <td>3.000000</td>\n",
              "      <td>1.000000</td>\n",
              "      <td>10.000000</td>\n",
              "      <td>0.000000</td>\n",
              "      <td>5.000000</td>\n",
              "      <td>1.000000</td>\n",
              "      <td>2.000000</td>\n",
              "      <td>0.655417</td>\n",
              "      <td>0.608602</td>\n",
              "      <td>0.730209</td>\n",
              "      <td>0.233214</td>\n",
              "      <td>1096.000000</td>\n",
              "      <td>4776.500000</td>\n",
              "      <td>5956.000000</td>\n",
              "    </tr>\n",
              "    <tr>\n",
              "      <th>max</th>\n",
              "      <td>731.000000</td>\n",
              "      <td>2012-12-31 00:00:00</td>\n",
              "      <td>4.000000</td>\n",
              "      <td>1.000000</td>\n",
              "      <td>12.000000</td>\n",
              "      <td>1.000000</td>\n",
              "      <td>6.000000</td>\n",
              "      <td>1.000000</td>\n",
              "      <td>3.000000</td>\n",
              "      <td>0.861667</td>\n",
              "      <td>0.840896</td>\n",
              "      <td>0.972500</td>\n",
              "      <td>0.507463</td>\n",
              "      <td>3410.000000</td>\n",
              "      <td>6946.000000</td>\n",
              "      <td>8714.000000</td>\n",
              "    </tr>\n",
              "    <tr>\n",
              "      <th>std</th>\n",
              "      <td>211.165812</td>\n",
              "      <td>NaN</td>\n",
              "      <td>1.110807</td>\n",
              "      <td>0.500342</td>\n",
              "      <td>3.451913</td>\n",
              "      <td>0.167155</td>\n",
              "      <td>2.004787</td>\n",
              "      <td>0.465233</td>\n",
              "      <td>0.544894</td>\n",
              "      <td>0.183051</td>\n",
              "      <td>0.162961</td>\n",
              "      <td>0.142429</td>\n",
              "      <td>0.077498</td>\n",
              "      <td>686.622488</td>\n",
              "      <td>1560.256377</td>\n",
              "      <td>1937.211452</td>\n",
              "    </tr>\n",
              "  </tbody>\n",
              "</table>\n",
              "</div>"
            ],
            "text/plain": [
              "          instant               dteday      season          yr        mnth  \\\n",
              "count  731.000000                  731  731.000000  731.000000  731.000000   \n",
              "mean   366.000000  2012-01-01 00:00:00    2.496580    0.500684    6.519836   \n",
              "min      1.000000  2011-01-01 00:00:00    1.000000    0.000000    1.000000   \n",
              "25%    183.500000  2011-07-02 12:00:00    2.000000    0.000000    4.000000   \n",
              "50%    366.000000  2012-01-01 00:00:00    3.000000    1.000000    7.000000   \n",
              "75%    548.500000  2012-07-01 12:00:00    3.000000    1.000000   10.000000   \n",
              "max    731.000000  2012-12-31 00:00:00    4.000000    1.000000   12.000000   \n",
              "std    211.165812                  NaN    1.110807    0.500342    3.451913   \n",
              "\n",
              "          holiday     weekday  workingday  weathersit        temp       atemp  \\\n",
              "count  731.000000  731.000000  731.000000  731.000000  731.000000  731.000000   \n",
              "mean     0.028728    2.997264    0.683995    1.395349    0.495385    0.474354   \n",
              "min      0.000000    0.000000    0.000000    1.000000    0.059130    0.079070   \n",
              "25%      0.000000    1.000000    0.000000    1.000000    0.337083    0.337842   \n",
              "50%      0.000000    3.000000    1.000000    1.000000    0.498333    0.486733   \n",
              "75%      0.000000    5.000000    1.000000    2.000000    0.655417    0.608602   \n",
              "max      1.000000    6.000000    1.000000    3.000000    0.861667    0.840896   \n",
              "std      0.167155    2.004787    0.465233    0.544894    0.183051    0.162961   \n",
              "\n",
              "              hum   windspeed       casual   registered          cnt  \n",
              "count  731.000000  731.000000   731.000000   731.000000   731.000000  \n",
              "mean     0.627894    0.190486   848.176471  3656.172367  4504.348837  \n",
              "min      0.000000    0.022392     2.000000    20.000000    22.000000  \n",
              "25%      0.520000    0.134950   315.500000  2497.000000  3152.000000  \n",
              "50%      0.626667    0.180975   713.000000  3662.000000  4548.000000  \n",
              "75%      0.730209    0.233214  1096.000000  4776.500000  5956.000000  \n",
              "max      0.972500    0.507463  3410.000000  6946.000000  8714.000000  \n",
              "std      0.142429    0.077498   686.622488  1560.256377  1937.211452  "
            ]
          },
          "execution_count": 12,
          "metadata": {},
          "output_type": "execute_result"
        }
      ],
      "source": [
        "day_df.describe(include=\"all\")"
      ]
    },
    {
      "cell_type": "markdown",
      "metadata": {
        "id": "79FtARXTptIh"
      },
      "source": [
        "*Berdasarkan rangkuman parameter statistik di atas, kita akan memperoleh informasi jumlah total sepeda sewaan per hari tertinggi 8714 dengan rata-rata 4504.34*"
      ]
    },
    {
      "cell_type": "markdown",
      "metadata": {
        "id": "k4aXDDGiaaoo"
      },
      "source": [
        "*2. Untuk memeriksa korelasi antar data numerik pada sebuah DataFrame, dapat menggunakan method corr()*"
      ]
    },
    {
      "cell_type": "code",
      "execution_count": 14,
      "metadata": {
        "colab": {
          "base_uri": "https://localhost:8080/",
          "height": 574
        },
        "id": "PoWZy4npVaI5",
        "outputId": "2ce9e251-246e-46a5-e509-74a2004330a9"
      },
      "outputs": [
        {
          "data": {
            "text/html": [
              "<div>\n",
              "<style scoped>\n",
              "    .dataframe tbody tr th:only-of-type {\n",
              "        vertical-align: middle;\n",
              "    }\n",
              "\n",
              "    .dataframe tbody tr th {\n",
              "        vertical-align: top;\n",
              "    }\n",
              "\n",
              "    .dataframe thead th {\n",
              "        text-align: right;\n",
              "    }\n",
              "</style>\n",
              "<table border=\"1\" class=\"dataframe\">\n",
              "  <thead>\n",
              "    <tr style=\"text-align: right;\">\n",
              "      <th></th>\n",
              "      <th>instant</th>\n",
              "      <th>dteday</th>\n",
              "      <th>season</th>\n",
              "      <th>yr</th>\n",
              "      <th>mnth</th>\n",
              "      <th>holiday</th>\n",
              "      <th>weekday</th>\n",
              "      <th>workingday</th>\n",
              "      <th>weathersit</th>\n",
              "      <th>temp</th>\n",
              "      <th>atemp</th>\n",
              "      <th>hum</th>\n",
              "      <th>windspeed</th>\n",
              "      <th>casual</th>\n",
              "      <th>registered</th>\n",
              "      <th>cnt</th>\n",
              "    </tr>\n",
              "  </thead>\n",
              "  <tbody>\n",
              "    <tr>\n",
              "      <th>instant</th>\n",
              "      <td>1.000000</td>\n",
              "      <td>1.000000</td>\n",
              "      <td>0.412224</td>\n",
              "      <td>0.866025</td>\n",
              "      <td>0.496702</td>\n",
              "      <td>0.016145</td>\n",
              "      <td>-0.000016</td>\n",
              "      <td>-0.004337</td>\n",
              "      <td>-0.021477</td>\n",
              "      <td>0.150580</td>\n",
              "      <td>0.152638</td>\n",
              "      <td>0.016375</td>\n",
              "      <td>-0.112620</td>\n",
              "      <td>0.275255</td>\n",
              "      <td>0.659623</td>\n",
              "      <td>0.628830</td>\n",
              "    </tr>\n",
              "    <tr>\n",
              "      <th>dteday</th>\n",
              "      <td>1.000000</td>\n",
              "      <td>1.000000</td>\n",
              "      <td>0.412224</td>\n",
              "      <td>0.866025</td>\n",
              "      <td>0.496702</td>\n",
              "      <td>0.016145</td>\n",
              "      <td>-0.000016</td>\n",
              "      <td>-0.004337</td>\n",
              "      <td>-0.021477</td>\n",
              "      <td>0.150580</td>\n",
              "      <td>0.152638</td>\n",
              "      <td>0.016375</td>\n",
              "      <td>-0.112620</td>\n",
              "      <td>0.275255</td>\n",
              "      <td>0.659623</td>\n",
              "      <td>0.628830</td>\n",
              "    </tr>\n",
              "    <tr>\n",
              "      <th>season</th>\n",
              "      <td>0.412224</td>\n",
              "      <td>0.412224</td>\n",
              "      <td>1.000000</td>\n",
              "      <td>-0.001844</td>\n",
              "      <td>0.831440</td>\n",
              "      <td>-0.010537</td>\n",
              "      <td>-0.003080</td>\n",
              "      <td>0.012485</td>\n",
              "      <td>0.019211</td>\n",
              "      <td>0.334315</td>\n",
              "      <td>0.342876</td>\n",
              "      <td>0.205445</td>\n",
              "      <td>-0.229046</td>\n",
              "      <td>0.210399</td>\n",
              "      <td>0.411623</td>\n",
              "      <td>0.406100</td>\n",
              "    </tr>\n",
              "    <tr>\n",
              "      <th>yr</th>\n",
              "      <td>0.866025</td>\n",
              "      <td>0.866025</td>\n",
              "      <td>-0.001844</td>\n",
              "      <td>1.000000</td>\n",
              "      <td>-0.001792</td>\n",
              "      <td>0.007954</td>\n",
              "      <td>-0.005461</td>\n",
              "      <td>-0.002013</td>\n",
              "      <td>-0.048727</td>\n",
              "      <td>0.047604</td>\n",
              "      <td>0.046106</td>\n",
              "      <td>-0.110651</td>\n",
              "      <td>-0.011817</td>\n",
              "      <td>0.248546</td>\n",
              "      <td>0.594248</td>\n",
              "      <td>0.566710</td>\n",
              "    </tr>\n",
              "    <tr>\n",
              "      <th>mnth</th>\n",
              "      <td>0.496702</td>\n",
              "      <td>0.496702</td>\n",
              "      <td>0.831440</td>\n",
              "      <td>-0.001792</td>\n",
              "      <td>1.000000</td>\n",
              "      <td>0.019191</td>\n",
              "      <td>0.009509</td>\n",
              "      <td>-0.005901</td>\n",
              "      <td>0.043528</td>\n",
              "      <td>0.220205</td>\n",
              "      <td>0.227459</td>\n",
              "      <td>0.222204</td>\n",
              "      <td>-0.207502</td>\n",
              "      <td>0.123006</td>\n",
              "      <td>0.293488</td>\n",
              "      <td>0.279977</td>\n",
              "    </tr>\n",
              "    <tr>\n",
              "      <th>holiday</th>\n",
              "      <td>0.016145</td>\n",
              "      <td>0.016145</td>\n",
              "      <td>-0.010537</td>\n",
              "      <td>0.007954</td>\n",
              "      <td>0.019191</td>\n",
              "      <td>1.000000</td>\n",
              "      <td>-0.101960</td>\n",
              "      <td>-0.253023</td>\n",
              "      <td>-0.034627</td>\n",
              "      <td>-0.028556</td>\n",
              "      <td>-0.032507</td>\n",
              "      <td>-0.015937</td>\n",
              "      <td>0.006292</td>\n",
              "      <td>0.054274</td>\n",
              "      <td>-0.108745</td>\n",
              "      <td>-0.068348</td>\n",
              "    </tr>\n",
              "    <tr>\n",
              "      <th>weekday</th>\n",
              "      <td>-0.000016</td>\n",
              "      <td>-0.000016</td>\n",
              "      <td>-0.003080</td>\n",
              "      <td>-0.005461</td>\n",
              "      <td>0.009509</td>\n",
              "      <td>-0.101960</td>\n",
              "      <td>1.000000</td>\n",
              "      <td>0.035790</td>\n",
              "      <td>0.031087</td>\n",
              "      <td>-0.000170</td>\n",
              "      <td>-0.007537</td>\n",
              "      <td>-0.052232</td>\n",
              "      <td>0.014282</td>\n",
              "      <td>0.059923</td>\n",
              "      <td>0.057367</td>\n",
              "      <td>0.067443</td>\n",
              "    </tr>\n",
              "    <tr>\n",
              "      <th>workingday</th>\n",
              "      <td>-0.004337</td>\n",
              "      <td>-0.004337</td>\n",
              "      <td>0.012485</td>\n",
              "      <td>-0.002013</td>\n",
              "      <td>-0.005901</td>\n",
              "      <td>-0.253023</td>\n",
              "      <td>0.035790</td>\n",
              "      <td>1.000000</td>\n",
              "      <td>0.061200</td>\n",
              "      <td>0.052660</td>\n",
              "      <td>0.052182</td>\n",
              "      <td>0.024327</td>\n",
              "      <td>-0.018796</td>\n",
              "      <td>-0.518044</td>\n",
              "      <td>0.303907</td>\n",
              "      <td>0.061156</td>\n",
              "    </tr>\n",
              "    <tr>\n",
              "      <th>weathersit</th>\n",
              "      <td>-0.021477</td>\n",
              "      <td>-0.021477</td>\n",
              "      <td>0.019211</td>\n",
              "      <td>-0.048727</td>\n",
              "      <td>0.043528</td>\n",
              "      <td>-0.034627</td>\n",
              "      <td>0.031087</td>\n",
              "      <td>0.061200</td>\n",
              "      <td>1.000000</td>\n",
              "      <td>-0.120602</td>\n",
              "      <td>-0.121583</td>\n",
              "      <td>0.591045</td>\n",
              "      <td>0.039511</td>\n",
              "      <td>-0.247353</td>\n",
              "      <td>-0.260388</td>\n",
              "      <td>-0.297391</td>\n",
              "    </tr>\n",
              "    <tr>\n",
              "      <th>temp</th>\n",
              "      <td>0.150580</td>\n",
              "      <td>0.150580</td>\n",
              "      <td>0.334315</td>\n",
              "      <td>0.047604</td>\n",
              "      <td>0.220205</td>\n",
              "      <td>-0.028556</td>\n",
              "      <td>-0.000170</td>\n",
              "      <td>0.052660</td>\n",
              "      <td>-0.120602</td>\n",
              "      <td>1.000000</td>\n",
              "      <td>0.991702</td>\n",
              "      <td>0.126963</td>\n",
              "      <td>-0.157944</td>\n",
              "      <td>0.543285</td>\n",
              "      <td>0.540012</td>\n",
              "      <td>0.627494</td>\n",
              "    </tr>\n",
              "    <tr>\n",
              "      <th>atemp</th>\n",
              "      <td>0.152638</td>\n",
              "      <td>0.152638</td>\n",
              "      <td>0.342876</td>\n",
              "      <td>0.046106</td>\n",
              "      <td>0.227459</td>\n",
              "      <td>-0.032507</td>\n",
              "      <td>-0.007537</td>\n",
              "      <td>0.052182</td>\n",
              "      <td>-0.121583</td>\n",
              "      <td>0.991702</td>\n",
              "      <td>1.000000</td>\n",
              "      <td>0.139988</td>\n",
              "      <td>-0.183643</td>\n",
              "      <td>0.543864</td>\n",
              "      <td>0.544192</td>\n",
              "      <td>0.631066</td>\n",
              "    </tr>\n",
              "    <tr>\n",
              "      <th>hum</th>\n",
              "      <td>0.016375</td>\n",
              "      <td>0.016375</td>\n",
              "      <td>0.205445</td>\n",
              "      <td>-0.110651</td>\n",
              "      <td>0.222204</td>\n",
              "      <td>-0.015937</td>\n",
              "      <td>-0.052232</td>\n",
              "      <td>0.024327</td>\n",
              "      <td>0.591045</td>\n",
              "      <td>0.126963</td>\n",
              "      <td>0.139988</td>\n",
              "      <td>1.000000</td>\n",
              "      <td>-0.248489</td>\n",
              "      <td>-0.077008</td>\n",
              "      <td>-0.091089</td>\n",
              "      <td>-0.100659</td>\n",
              "    </tr>\n",
              "    <tr>\n",
              "      <th>windspeed</th>\n",
              "      <td>-0.112620</td>\n",
              "      <td>-0.112620</td>\n",
              "      <td>-0.229046</td>\n",
              "      <td>-0.011817</td>\n",
              "      <td>-0.207502</td>\n",
              "      <td>0.006292</td>\n",
              "      <td>0.014282</td>\n",
              "      <td>-0.018796</td>\n",
              "      <td>0.039511</td>\n",
              "      <td>-0.157944</td>\n",
              "      <td>-0.183643</td>\n",
              "      <td>-0.248489</td>\n",
              "      <td>1.000000</td>\n",
              "      <td>-0.167613</td>\n",
              "      <td>-0.217449</td>\n",
              "      <td>-0.234545</td>\n",
              "    </tr>\n",
              "    <tr>\n",
              "      <th>casual</th>\n",
              "      <td>0.275255</td>\n",
              "      <td>0.275255</td>\n",
              "      <td>0.210399</td>\n",
              "      <td>0.248546</td>\n",
              "      <td>0.123006</td>\n",
              "      <td>0.054274</td>\n",
              "      <td>0.059923</td>\n",
              "      <td>-0.518044</td>\n",
              "      <td>-0.247353</td>\n",
              "      <td>0.543285</td>\n",
              "      <td>0.543864</td>\n",
              "      <td>-0.077008</td>\n",
              "      <td>-0.167613</td>\n",
              "      <td>1.000000</td>\n",
              "      <td>0.395282</td>\n",
              "      <td>0.672804</td>\n",
              "    </tr>\n",
              "    <tr>\n",
              "      <th>registered</th>\n",
              "      <td>0.659623</td>\n",
              "      <td>0.659623</td>\n",
              "      <td>0.411623</td>\n",
              "      <td>0.594248</td>\n",
              "      <td>0.293488</td>\n",
              "      <td>-0.108745</td>\n",
              "      <td>0.057367</td>\n",
              "      <td>0.303907</td>\n",
              "      <td>-0.260388</td>\n",
              "      <td>0.540012</td>\n",
              "      <td>0.544192</td>\n",
              "      <td>-0.091089</td>\n",
              "      <td>-0.217449</td>\n",
              "      <td>0.395282</td>\n",
              "      <td>1.000000</td>\n",
              "      <td>0.945517</td>\n",
              "    </tr>\n",
              "    <tr>\n",
              "      <th>cnt</th>\n",
              "      <td>0.628830</td>\n",
              "      <td>0.628830</td>\n",
              "      <td>0.406100</td>\n",
              "      <td>0.566710</td>\n",
              "      <td>0.279977</td>\n",
              "      <td>-0.068348</td>\n",
              "      <td>0.067443</td>\n",
              "      <td>0.061156</td>\n",
              "      <td>-0.297391</td>\n",
              "      <td>0.627494</td>\n",
              "      <td>0.631066</td>\n",
              "      <td>-0.100659</td>\n",
              "      <td>-0.234545</td>\n",
              "      <td>0.672804</td>\n",
              "      <td>0.945517</td>\n",
              "      <td>1.000000</td>\n",
              "    </tr>\n",
              "  </tbody>\n",
              "</table>\n",
              "</div>"
            ],
            "text/plain": [
              "             instant    dteday    season        yr      mnth   holiday  \\\n",
              "instant     1.000000  1.000000  0.412224  0.866025  0.496702  0.016145   \n",
              "dteday      1.000000  1.000000  0.412224  0.866025  0.496702  0.016145   \n",
              "season      0.412224  0.412224  1.000000 -0.001844  0.831440 -0.010537   \n",
              "yr          0.866025  0.866025 -0.001844  1.000000 -0.001792  0.007954   \n",
              "mnth        0.496702  0.496702  0.831440 -0.001792  1.000000  0.019191   \n",
              "holiday     0.016145  0.016145 -0.010537  0.007954  0.019191  1.000000   \n",
              "weekday    -0.000016 -0.000016 -0.003080 -0.005461  0.009509 -0.101960   \n",
              "workingday -0.004337 -0.004337  0.012485 -0.002013 -0.005901 -0.253023   \n",
              "weathersit -0.021477 -0.021477  0.019211 -0.048727  0.043528 -0.034627   \n",
              "temp        0.150580  0.150580  0.334315  0.047604  0.220205 -0.028556   \n",
              "atemp       0.152638  0.152638  0.342876  0.046106  0.227459 -0.032507   \n",
              "hum         0.016375  0.016375  0.205445 -0.110651  0.222204 -0.015937   \n",
              "windspeed  -0.112620 -0.112620 -0.229046 -0.011817 -0.207502  0.006292   \n",
              "casual      0.275255  0.275255  0.210399  0.248546  0.123006  0.054274   \n",
              "registered  0.659623  0.659623  0.411623  0.594248  0.293488 -0.108745   \n",
              "cnt         0.628830  0.628830  0.406100  0.566710  0.279977 -0.068348   \n",
              "\n",
              "             weekday  workingday  weathersit      temp     atemp       hum  \\\n",
              "instant    -0.000016   -0.004337   -0.021477  0.150580  0.152638  0.016375   \n",
              "dteday     -0.000016   -0.004337   -0.021477  0.150580  0.152638  0.016375   \n",
              "season     -0.003080    0.012485    0.019211  0.334315  0.342876  0.205445   \n",
              "yr         -0.005461   -0.002013   -0.048727  0.047604  0.046106 -0.110651   \n",
              "mnth        0.009509   -0.005901    0.043528  0.220205  0.227459  0.222204   \n",
              "holiday    -0.101960   -0.253023   -0.034627 -0.028556 -0.032507 -0.015937   \n",
              "weekday     1.000000    0.035790    0.031087 -0.000170 -0.007537 -0.052232   \n",
              "workingday  0.035790    1.000000    0.061200  0.052660  0.052182  0.024327   \n",
              "weathersit  0.031087    0.061200    1.000000 -0.120602 -0.121583  0.591045   \n",
              "temp       -0.000170    0.052660   -0.120602  1.000000  0.991702  0.126963   \n",
              "atemp      -0.007537    0.052182   -0.121583  0.991702  1.000000  0.139988   \n",
              "hum        -0.052232    0.024327    0.591045  0.126963  0.139988  1.000000   \n",
              "windspeed   0.014282   -0.018796    0.039511 -0.157944 -0.183643 -0.248489   \n",
              "casual      0.059923   -0.518044   -0.247353  0.543285  0.543864 -0.077008   \n",
              "registered  0.057367    0.303907   -0.260388  0.540012  0.544192 -0.091089   \n",
              "cnt         0.067443    0.061156   -0.297391  0.627494  0.631066 -0.100659   \n",
              "\n",
              "            windspeed    casual  registered       cnt  \n",
              "instant     -0.112620  0.275255    0.659623  0.628830  \n",
              "dteday      -0.112620  0.275255    0.659623  0.628830  \n",
              "season      -0.229046  0.210399    0.411623  0.406100  \n",
              "yr          -0.011817  0.248546    0.594248  0.566710  \n",
              "mnth        -0.207502  0.123006    0.293488  0.279977  \n",
              "holiday      0.006292  0.054274   -0.108745 -0.068348  \n",
              "weekday      0.014282  0.059923    0.057367  0.067443  \n",
              "workingday  -0.018796 -0.518044    0.303907  0.061156  \n",
              "weathersit   0.039511 -0.247353   -0.260388 -0.297391  \n",
              "temp        -0.157944  0.543285    0.540012  0.627494  \n",
              "atemp       -0.183643  0.543864    0.544192  0.631066  \n",
              "hum         -0.248489 -0.077008   -0.091089 -0.100659  \n",
              "windspeed    1.000000 -0.167613   -0.217449 -0.234545  \n",
              "casual      -0.167613  1.000000    0.395282  0.672804  \n",
              "registered  -0.217449  0.395282    1.000000  0.945517  \n",
              "cnt         -0.234545  0.672804    0.945517  1.000000  "
            ]
          },
          "execution_count": 14,
          "metadata": {},
          "output_type": "execute_result"
        }
      ],
      "source": [
        "day_df.corr()"
      ]
    },
    {
      "cell_type": "markdown",
      "metadata": {
        "id": "wxHKPwldatmN"
      },
      "source": [
        "*Yang tidak berkorelasi dengan cnt(jumlah sewaan sepeda) adalah holiday, weathersit, hum, dan windspeed*"
      ]
    },
    {
      "cell_type": "markdown",
      "metadata": {
        "id": "BjFgD2TeyLXO"
      },
      "source": [
        "*3. Selanjutnya, kita akan lihat pengunaan sepeda berdasarkan musim. Untuk melakukan ini, kita akan menggunakan method groupby() yang diiikuti dengan metode agg()*"
      ]
    },
    {
      "cell_type": "code",
      "execution_count": 15,
      "metadata": {
        "colab": {
          "base_uri": "https://localhost:8080/",
          "height": 237
        },
        "id": "3mSo8KdFyKYd",
        "outputId": "7f0f0f9d-aca3-4fcc-dd0d-06f4c95ab52e"
      },
      "outputs": [
        {
          "data": {
            "text/html": [
              "<div>\n",
              "<style scoped>\n",
              "    .dataframe tbody tr th:only-of-type {\n",
              "        vertical-align: middle;\n",
              "    }\n",
              "\n",
              "    .dataframe tbody tr th {\n",
              "        vertical-align: top;\n",
              "    }\n",
              "\n",
              "    .dataframe thead tr th {\n",
              "        text-align: left;\n",
              "    }\n",
              "\n",
              "    .dataframe thead tr:last-of-type th {\n",
              "        text-align: right;\n",
              "    }\n",
              "</style>\n",
              "<table border=\"1\" class=\"dataframe\">\n",
              "  <thead>\n",
              "    <tr>\n",
              "      <th></th>\n",
              "      <th colspan=\"4\" halign=\"left\">cnt</th>\n",
              "    </tr>\n",
              "    <tr>\n",
              "      <th></th>\n",
              "      <th>max</th>\n",
              "      <th>min</th>\n",
              "      <th>mean</th>\n",
              "      <th>std</th>\n",
              "    </tr>\n",
              "    <tr>\n",
              "      <th>season</th>\n",
              "      <th></th>\n",
              "      <th></th>\n",
              "      <th></th>\n",
              "      <th></th>\n",
              "    </tr>\n",
              "  </thead>\n",
              "  <tbody>\n",
              "    <tr>\n",
              "      <th>1</th>\n",
              "      <td>7836</td>\n",
              "      <td>431</td>\n",
              "      <td>2604.132597</td>\n",
              "      <td>1399.942119</td>\n",
              "    </tr>\n",
              "    <tr>\n",
              "      <th>2</th>\n",
              "      <td>8362</td>\n",
              "      <td>795</td>\n",
              "      <td>4992.331522</td>\n",
              "      <td>1695.977235</td>\n",
              "    </tr>\n",
              "    <tr>\n",
              "      <th>3</th>\n",
              "      <td>8714</td>\n",
              "      <td>1115</td>\n",
              "      <td>5644.303191</td>\n",
              "      <td>1459.800381</td>\n",
              "    </tr>\n",
              "    <tr>\n",
              "      <th>4</th>\n",
              "      <td>8555</td>\n",
              "      <td>22</td>\n",
              "      <td>4728.162921</td>\n",
              "      <td>1699.615261</td>\n",
              "    </tr>\n",
              "  </tbody>\n",
              "</table>\n",
              "</div>"
            ],
            "text/plain": [
              "         cnt                                \n",
              "         max   min         mean          std\n",
              "season                                      \n",
              "1       7836   431  2604.132597  1399.942119\n",
              "2       8362   795  4992.331522  1695.977235\n",
              "3       8714  1115  5644.303191  1459.800381\n",
              "4       8555    22  4728.162921  1699.615261"
            ]
          },
          "execution_count": 15,
          "metadata": {},
          "output_type": "execute_result"
        }
      ],
      "source": [
        "day_df.groupby(by=\"season\").agg({\n",
        "    \"cnt\": [\"max\", \"min\", \"mean\", \"std\"]\n",
        "})"
      ]
    },
    {
      "cell_type": "markdown",
      "metadata": {
        "id": "CPHGamW9zM1j"
      },
      "source": [
        "*Berdasarkan pivot table diatas, dapat diketahui bahwa penyewa sepeda terbanyak terdapat pada musim gugur (3) sebanyak 8714 dengan penyewa terendah pada musim semi (1) sebanyak 22.*"
      ]
    },
    {
      "cell_type": "markdown",
      "metadata": {
        "id": "ldW9I5x6aKTk"
      },
      "source": [
        "### Explore Data hour_df"
      ]
    },
    {
      "cell_type": "markdown",
      "metadata": {
        "id": "YS59z1DC1ZuG"
      },
      "source": [
        "*1. Sebagai permulaan, kita akan melihat rangkuman parameter statistik dari data day_df dengan menggunakan describe()*"
      ]
    },
    {
      "cell_type": "code",
      "execution_count": 16,
      "metadata": {
        "colab": {
          "base_uri": "https://localhost:8080/",
          "height": 431
        },
        "id": "qpctmYgz1a1i",
        "outputId": "de2d01c1-a6bf-47b1-88c9-334bcda61bba"
      },
      "outputs": [
        {
          "data": {
            "text/html": [
              "<div>\n",
              "<style scoped>\n",
              "    .dataframe tbody tr th:only-of-type {\n",
              "        vertical-align: middle;\n",
              "    }\n",
              "\n",
              "    .dataframe tbody tr th {\n",
              "        vertical-align: top;\n",
              "    }\n",
              "\n",
              "    .dataframe thead th {\n",
              "        text-align: right;\n",
              "    }\n",
              "</style>\n",
              "<table border=\"1\" class=\"dataframe\">\n",
              "  <thead>\n",
              "    <tr style=\"text-align: right;\">\n",
              "      <th></th>\n",
              "      <th>instant</th>\n",
              "      <th>dteday</th>\n",
              "      <th>season</th>\n",
              "      <th>yr</th>\n",
              "      <th>mnth</th>\n",
              "      <th>hr</th>\n",
              "      <th>holiday</th>\n",
              "      <th>weekday</th>\n",
              "      <th>workingday</th>\n",
              "      <th>weathersit</th>\n",
              "      <th>temp</th>\n",
              "      <th>atemp</th>\n",
              "      <th>hum</th>\n",
              "      <th>windspeed</th>\n",
              "      <th>casual</th>\n",
              "      <th>registered</th>\n",
              "      <th>cnt</th>\n",
              "    </tr>\n",
              "  </thead>\n",
              "  <tbody>\n",
              "    <tr>\n",
              "      <th>count</th>\n",
              "      <td>17379.0000</td>\n",
              "      <td>17379</td>\n",
              "      <td>17379.000000</td>\n",
              "      <td>17379.000000</td>\n",
              "      <td>17379.000000</td>\n",
              "      <td>17379.000000</td>\n",
              "      <td>17379.000000</td>\n",
              "      <td>17379.000000</td>\n",
              "      <td>17379.000000</td>\n",
              "      <td>17379.000000</td>\n",
              "      <td>17379.000000</td>\n",
              "      <td>17379.000000</td>\n",
              "      <td>17379.000000</td>\n",
              "      <td>17379.000000</td>\n",
              "      <td>17379.000000</td>\n",
              "      <td>17379.000000</td>\n",
              "      <td>17379.000000</td>\n",
              "    </tr>\n",
              "    <tr>\n",
              "      <th>mean</th>\n",
              "      <td>8690.0000</td>\n",
              "      <td>2012-01-02 04:08:34.552045568</td>\n",
              "      <td>2.501640</td>\n",
              "      <td>0.502561</td>\n",
              "      <td>6.537775</td>\n",
              "      <td>11.546752</td>\n",
              "      <td>0.028770</td>\n",
              "      <td>3.003683</td>\n",
              "      <td>0.682721</td>\n",
              "      <td>1.425283</td>\n",
              "      <td>0.496987</td>\n",
              "      <td>0.475775</td>\n",
              "      <td>0.627229</td>\n",
              "      <td>0.190098</td>\n",
              "      <td>35.676218</td>\n",
              "      <td>153.786869</td>\n",
              "      <td>189.463088</td>\n",
              "    </tr>\n",
              "    <tr>\n",
              "      <th>min</th>\n",
              "      <td>1.0000</td>\n",
              "      <td>2011-01-01 00:00:00</td>\n",
              "      <td>1.000000</td>\n",
              "      <td>0.000000</td>\n",
              "      <td>1.000000</td>\n",
              "      <td>0.000000</td>\n",
              "      <td>0.000000</td>\n",
              "      <td>0.000000</td>\n",
              "      <td>0.000000</td>\n",
              "      <td>1.000000</td>\n",
              "      <td>0.020000</td>\n",
              "      <td>0.000000</td>\n",
              "      <td>0.000000</td>\n",
              "      <td>0.000000</td>\n",
              "      <td>0.000000</td>\n",
              "      <td>0.000000</td>\n",
              "      <td>1.000000</td>\n",
              "    </tr>\n",
              "    <tr>\n",
              "      <th>25%</th>\n",
              "      <td>4345.5000</td>\n",
              "      <td>2011-07-04 00:00:00</td>\n",
              "      <td>2.000000</td>\n",
              "      <td>0.000000</td>\n",
              "      <td>4.000000</td>\n",
              "      <td>6.000000</td>\n",
              "      <td>0.000000</td>\n",
              "      <td>1.000000</td>\n",
              "      <td>0.000000</td>\n",
              "      <td>1.000000</td>\n",
              "      <td>0.340000</td>\n",
              "      <td>0.333300</td>\n",
              "      <td>0.480000</td>\n",
              "      <td>0.104500</td>\n",
              "      <td>4.000000</td>\n",
              "      <td>34.000000</td>\n",
              "      <td>40.000000</td>\n",
              "    </tr>\n",
              "    <tr>\n",
              "      <th>50%</th>\n",
              "      <td>8690.0000</td>\n",
              "      <td>2012-01-02 00:00:00</td>\n",
              "      <td>3.000000</td>\n",
              "      <td>1.000000</td>\n",
              "      <td>7.000000</td>\n",
              "      <td>12.000000</td>\n",
              "      <td>0.000000</td>\n",
              "      <td>3.000000</td>\n",
              "      <td>1.000000</td>\n",
              "      <td>1.000000</td>\n",
              "      <td>0.500000</td>\n",
              "      <td>0.484800</td>\n",
              "      <td>0.630000</td>\n",
              "      <td>0.194000</td>\n",
              "      <td>17.000000</td>\n",
              "      <td>115.000000</td>\n",
              "      <td>142.000000</td>\n",
              "    </tr>\n",
              "    <tr>\n",
              "      <th>75%</th>\n",
              "      <td>13034.5000</td>\n",
              "      <td>2012-07-02 00:00:00</td>\n",
              "      <td>3.000000</td>\n",
              "      <td>1.000000</td>\n",
              "      <td>10.000000</td>\n",
              "      <td>18.000000</td>\n",
              "      <td>0.000000</td>\n",
              "      <td>5.000000</td>\n",
              "      <td>1.000000</td>\n",
              "      <td>2.000000</td>\n",
              "      <td>0.660000</td>\n",
              "      <td>0.621200</td>\n",
              "      <td>0.780000</td>\n",
              "      <td>0.253700</td>\n",
              "      <td>48.000000</td>\n",
              "      <td>220.000000</td>\n",
              "      <td>281.000000</td>\n",
              "    </tr>\n",
              "    <tr>\n",
              "      <th>max</th>\n",
              "      <td>17379.0000</td>\n",
              "      <td>2012-12-31 00:00:00</td>\n",
              "      <td>4.000000</td>\n",
              "      <td>1.000000</td>\n",
              "      <td>12.000000</td>\n",
              "      <td>23.000000</td>\n",
              "      <td>1.000000</td>\n",
              "      <td>6.000000</td>\n",
              "      <td>1.000000</td>\n",
              "      <td>4.000000</td>\n",
              "      <td>1.000000</td>\n",
              "      <td>1.000000</td>\n",
              "      <td>1.000000</td>\n",
              "      <td>0.850700</td>\n",
              "      <td>367.000000</td>\n",
              "      <td>886.000000</td>\n",
              "      <td>977.000000</td>\n",
              "    </tr>\n",
              "    <tr>\n",
              "      <th>std</th>\n",
              "      <td>5017.0295</td>\n",
              "      <td>NaN</td>\n",
              "      <td>1.106918</td>\n",
              "      <td>0.500008</td>\n",
              "      <td>3.438776</td>\n",
              "      <td>6.914405</td>\n",
              "      <td>0.167165</td>\n",
              "      <td>2.005771</td>\n",
              "      <td>0.465431</td>\n",
              "      <td>0.639357</td>\n",
              "      <td>0.192556</td>\n",
              "      <td>0.171850</td>\n",
              "      <td>0.192930</td>\n",
              "      <td>0.122340</td>\n",
              "      <td>49.305030</td>\n",
              "      <td>151.357286</td>\n",
              "      <td>181.387599</td>\n",
              "    </tr>\n",
              "  </tbody>\n",
              "</table>\n",
              "</div>"
            ],
            "text/plain": [
              "          instant                         dteday        season            yr  \\\n",
              "count  17379.0000                          17379  17379.000000  17379.000000   \n",
              "mean    8690.0000  2012-01-02 04:08:34.552045568      2.501640      0.502561   \n",
              "min        1.0000            2011-01-01 00:00:00      1.000000      0.000000   \n",
              "25%     4345.5000            2011-07-04 00:00:00      2.000000      0.000000   \n",
              "50%     8690.0000            2012-01-02 00:00:00      3.000000      1.000000   \n",
              "75%    13034.5000            2012-07-02 00:00:00      3.000000      1.000000   \n",
              "max    17379.0000            2012-12-31 00:00:00      4.000000      1.000000   \n",
              "std     5017.0295                            NaN      1.106918      0.500008   \n",
              "\n",
              "               mnth            hr       holiday       weekday    workingday  \\\n",
              "count  17379.000000  17379.000000  17379.000000  17379.000000  17379.000000   \n",
              "mean       6.537775     11.546752      0.028770      3.003683      0.682721   \n",
              "min        1.000000      0.000000      0.000000      0.000000      0.000000   \n",
              "25%        4.000000      6.000000      0.000000      1.000000      0.000000   \n",
              "50%        7.000000     12.000000      0.000000      3.000000      1.000000   \n",
              "75%       10.000000     18.000000      0.000000      5.000000      1.000000   \n",
              "max       12.000000     23.000000      1.000000      6.000000      1.000000   \n",
              "std        3.438776      6.914405      0.167165      2.005771      0.465431   \n",
              "\n",
              "         weathersit          temp         atemp           hum     windspeed  \\\n",
              "count  17379.000000  17379.000000  17379.000000  17379.000000  17379.000000   \n",
              "mean       1.425283      0.496987      0.475775      0.627229      0.190098   \n",
              "min        1.000000      0.020000      0.000000      0.000000      0.000000   \n",
              "25%        1.000000      0.340000      0.333300      0.480000      0.104500   \n",
              "50%        1.000000      0.500000      0.484800      0.630000      0.194000   \n",
              "75%        2.000000      0.660000      0.621200      0.780000      0.253700   \n",
              "max        4.000000      1.000000      1.000000      1.000000      0.850700   \n",
              "std        0.639357      0.192556      0.171850      0.192930      0.122340   \n",
              "\n",
              "             casual    registered           cnt  \n",
              "count  17379.000000  17379.000000  17379.000000  \n",
              "mean      35.676218    153.786869    189.463088  \n",
              "min        0.000000      0.000000      1.000000  \n",
              "25%        4.000000     34.000000     40.000000  \n",
              "50%       17.000000    115.000000    142.000000  \n",
              "75%       48.000000    220.000000    281.000000  \n",
              "max      367.000000    886.000000    977.000000  \n",
              "std       49.305030    151.357286    181.387599  "
            ]
          },
          "execution_count": 16,
          "metadata": {},
          "output_type": "execute_result"
        }
      ],
      "source": [
        "hour_df.describe(include=\"all\")"
      ]
    },
    {
      "cell_type": "markdown",
      "metadata": {
        "id": "o-30G93a1siB"
      },
      "source": [
        "*Berdasarkan rangkuman parameter statistik di atas, kita akan memperoleh informasi jumlah total sepeda sewaan per jam tertinggi sebanyak 977 dengan rata-rata jumlah penyewa 189.46*"
      ]
    },
    {
      "cell_type": "markdown",
      "metadata": {
        "id": "LrUAY1frc1HR"
      },
      "source": [
        "*2. Untuk memeriksa korelasi antar data numerik pada sebuah DataFrame, dapat menggunakan method corr()*"
      ]
    },
    {
      "cell_type": "code",
      "execution_count": 18,
      "metadata": {
        "colab": {
          "base_uri": "https://localhost:8080/",
          "height": 605
        },
        "id": "xhHSHCPaaJ1o",
        "outputId": "ab40ce2a-1601-4d07-ec63-a09a6c7c541f"
      },
      "outputs": [
        {
          "data": {
            "text/html": [
              "<div>\n",
              "<style scoped>\n",
              "    .dataframe tbody tr th:only-of-type {\n",
              "        vertical-align: middle;\n",
              "    }\n",
              "\n",
              "    .dataframe tbody tr th {\n",
              "        vertical-align: top;\n",
              "    }\n",
              "\n",
              "    .dataframe thead th {\n",
              "        text-align: right;\n",
              "    }\n",
              "</style>\n",
              "<table border=\"1\" class=\"dataframe\">\n",
              "  <thead>\n",
              "    <tr style=\"text-align: right;\">\n",
              "      <th></th>\n",
              "      <th>instant</th>\n",
              "      <th>dteday</th>\n",
              "      <th>season</th>\n",
              "      <th>yr</th>\n",
              "      <th>mnth</th>\n",
              "      <th>hr</th>\n",
              "      <th>holiday</th>\n",
              "      <th>weekday</th>\n",
              "      <th>workingday</th>\n",
              "      <th>weathersit</th>\n",
              "      <th>temp</th>\n",
              "      <th>atemp</th>\n",
              "      <th>hum</th>\n",
              "      <th>windspeed</th>\n",
              "      <th>casual</th>\n",
              "      <th>registered</th>\n",
              "      <th>cnt</th>\n",
              "    </tr>\n",
              "  </thead>\n",
              "  <tbody>\n",
              "    <tr>\n",
              "      <th>instant</th>\n",
              "      <td>1.000000</td>\n",
              "      <td>0.999995</td>\n",
              "      <td>0.404046</td>\n",
              "      <td>0.866014</td>\n",
              "      <td>0.489164</td>\n",
              "      <td>-0.004775</td>\n",
              "      <td>0.014723</td>\n",
              "      <td>0.001357</td>\n",
              "      <td>-0.003416</td>\n",
              "      <td>-0.014198</td>\n",
              "      <td>0.136178</td>\n",
              "      <td>0.137615</td>\n",
              "      <td>0.009577</td>\n",
              "      <td>-0.074505</td>\n",
              "      <td>0.158295</td>\n",
              "      <td>0.282046</td>\n",
              "      <td>0.278379</td>\n",
              "    </tr>\n",
              "    <tr>\n",
              "      <th>dteday</th>\n",
              "      <td>0.999995</td>\n",
              "      <td>1.000000</td>\n",
              "      <td>0.404452</td>\n",
              "      <td>0.865648</td>\n",
              "      <td>0.489808</td>\n",
              "      <td>-0.006161</td>\n",
              "      <td>0.014737</td>\n",
              "      <td>0.001372</td>\n",
              "      <td>-0.003366</td>\n",
              "      <td>-0.014063</td>\n",
              "      <td>0.136074</td>\n",
              "      <td>0.137543</td>\n",
              "      <td>0.010196</td>\n",
              "      <td>-0.074645</td>\n",
              "      <td>0.157821</td>\n",
              "      <td>0.281450</td>\n",
              "      <td>0.277753</td>\n",
              "    </tr>\n",
              "    <tr>\n",
              "      <th>season</th>\n",
              "      <td>0.404046</td>\n",
              "      <td>0.404452</td>\n",
              "      <td>1.000000</td>\n",
              "      <td>-0.010742</td>\n",
              "      <td>0.830386</td>\n",
              "      <td>-0.006117</td>\n",
              "      <td>-0.009585</td>\n",
              "      <td>-0.002335</td>\n",
              "      <td>0.013743</td>\n",
              "      <td>-0.014524</td>\n",
              "      <td>0.312025</td>\n",
              "      <td>0.319380</td>\n",
              "      <td>0.150625</td>\n",
              "      <td>-0.149773</td>\n",
              "      <td>0.120206</td>\n",
              "      <td>0.174226</td>\n",
              "      <td>0.178056</td>\n",
              "    </tr>\n",
              "    <tr>\n",
              "      <th>yr</th>\n",
              "      <td>0.866014</td>\n",
              "      <td>0.865648</td>\n",
              "      <td>-0.010742</td>\n",
              "      <td>1.000000</td>\n",
              "      <td>-0.010473</td>\n",
              "      <td>-0.003867</td>\n",
              "      <td>0.006692</td>\n",
              "      <td>-0.004485</td>\n",
              "      <td>-0.002196</td>\n",
              "      <td>-0.019157</td>\n",
              "      <td>0.040913</td>\n",
              "      <td>0.039222</td>\n",
              "      <td>-0.083546</td>\n",
              "      <td>-0.008740</td>\n",
              "      <td>0.142779</td>\n",
              "      <td>0.253684</td>\n",
              "      <td>0.250495</td>\n",
              "    </tr>\n",
              "    <tr>\n",
              "      <th>mnth</th>\n",
              "      <td>0.489164</td>\n",
              "      <td>0.489808</td>\n",
              "      <td>0.830386</td>\n",
              "      <td>-0.010473</td>\n",
              "      <td>1.000000</td>\n",
              "      <td>-0.005772</td>\n",
              "      <td>0.018430</td>\n",
              "      <td>0.010400</td>\n",
              "      <td>-0.003477</td>\n",
              "      <td>0.005400</td>\n",
              "      <td>0.201691</td>\n",
              "      <td>0.208096</td>\n",
              "      <td>0.164411</td>\n",
              "      <td>-0.135386</td>\n",
              "      <td>0.068457</td>\n",
              "      <td>0.122273</td>\n",
              "      <td>0.120638</td>\n",
              "    </tr>\n",
              "    <tr>\n",
              "      <th>hr</th>\n",
              "      <td>-0.004775</td>\n",
              "      <td>-0.006161</td>\n",
              "      <td>-0.006117</td>\n",
              "      <td>-0.003867</td>\n",
              "      <td>-0.005772</td>\n",
              "      <td>1.000000</td>\n",
              "      <td>0.000479</td>\n",
              "      <td>-0.003498</td>\n",
              "      <td>0.002285</td>\n",
              "      <td>-0.020203</td>\n",
              "      <td>0.137603</td>\n",
              "      <td>0.133750</td>\n",
              "      <td>-0.276498</td>\n",
              "      <td>0.137252</td>\n",
              "      <td>0.301202</td>\n",
              "      <td>0.374141</td>\n",
              "      <td>0.394071</td>\n",
              "    </tr>\n",
              "    <tr>\n",
              "      <th>holiday</th>\n",
              "      <td>0.014723</td>\n",
              "      <td>0.014737</td>\n",
              "      <td>-0.009585</td>\n",
              "      <td>0.006692</td>\n",
              "      <td>0.018430</td>\n",
              "      <td>0.000479</td>\n",
              "      <td>1.000000</td>\n",
              "      <td>-0.102088</td>\n",
              "      <td>-0.252471</td>\n",
              "      <td>-0.017036</td>\n",
              "      <td>-0.027340</td>\n",
              "      <td>-0.030973</td>\n",
              "      <td>-0.010588</td>\n",
              "      <td>0.003988</td>\n",
              "      <td>0.031564</td>\n",
              "      <td>-0.047345</td>\n",
              "      <td>-0.030927</td>\n",
              "    </tr>\n",
              "    <tr>\n",
              "      <th>weekday</th>\n",
              "      <td>0.001357</td>\n",
              "      <td>0.001372</td>\n",
              "      <td>-0.002335</td>\n",
              "      <td>-0.004485</td>\n",
              "      <td>0.010400</td>\n",
              "      <td>-0.003498</td>\n",
              "      <td>-0.102088</td>\n",
              "      <td>1.000000</td>\n",
              "      <td>0.035955</td>\n",
              "      <td>0.003311</td>\n",
              "      <td>-0.001795</td>\n",
              "      <td>-0.008821</td>\n",
              "      <td>-0.037158</td>\n",
              "      <td>0.011502</td>\n",
              "      <td>0.032721</td>\n",
              "      <td>0.021578</td>\n",
              "      <td>0.026900</td>\n",
              "    </tr>\n",
              "    <tr>\n",
              "      <th>workingday</th>\n",
              "      <td>-0.003416</td>\n",
              "      <td>-0.003366</td>\n",
              "      <td>0.013743</td>\n",
              "      <td>-0.002196</td>\n",
              "      <td>-0.003477</td>\n",
              "      <td>0.002285</td>\n",
              "      <td>-0.252471</td>\n",
              "      <td>0.035955</td>\n",
              "      <td>1.000000</td>\n",
              "      <td>0.044672</td>\n",
              "      <td>0.055390</td>\n",
              "      <td>0.054667</td>\n",
              "      <td>0.015688</td>\n",
              "      <td>-0.011830</td>\n",
              "      <td>-0.300942</td>\n",
              "      <td>0.134326</td>\n",
              "      <td>0.030284</td>\n",
              "    </tr>\n",
              "    <tr>\n",
              "      <th>weathersit</th>\n",
              "      <td>-0.014198</td>\n",
              "      <td>-0.014063</td>\n",
              "      <td>-0.014524</td>\n",
              "      <td>-0.019157</td>\n",
              "      <td>0.005400</td>\n",
              "      <td>-0.020203</td>\n",
              "      <td>-0.017036</td>\n",
              "      <td>0.003311</td>\n",
              "      <td>0.044672</td>\n",
              "      <td>1.000000</td>\n",
              "      <td>-0.102640</td>\n",
              "      <td>-0.105563</td>\n",
              "      <td>0.418130</td>\n",
              "      <td>0.026226</td>\n",
              "      <td>-0.152628</td>\n",
              "      <td>-0.120966</td>\n",
              "      <td>-0.142426</td>\n",
              "    </tr>\n",
              "    <tr>\n",
              "      <th>temp</th>\n",
              "      <td>0.136178</td>\n",
              "      <td>0.136074</td>\n",
              "      <td>0.312025</td>\n",
              "      <td>0.040913</td>\n",
              "      <td>0.201691</td>\n",
              "      <td>0.137603</td>\n",
              "      <td>-0.027340</td>\n",
              "      <td>-0.001795</td>\n",
              "      <td>0.055390</td>\n",
              "      <td>-0.102640</td>\n",
              "      <td>1.000000</td>\n",
              "      <td>0.987672</td>\n",
              "      <td>-0.069881</td>\n",
              "      <td>-0.023125</td>\n",
              "      <td>0.459616</td>\n",
              "      <td>0.335361</td>\n",
              "      <td>0.404772</td>\n",
              "    </tr>\n",
              "    <tr>\n",
              "      <th>atemp</th>\n",
              "      <td>0.137615</td>\n",
              "      <td>0.137543</td>\n",
              "      <td>0.319380</td>\n",
              "      <td>0.039222</td>\n",
              "      <td>0.208096</td>\n",
              "      <td>0.133750</td>\n",
              "      <td>-0.030973</td>\n",
              "      <td>-0.008821</td>\n",
              "      <td>0.054667</td>\n",
              "      <td>-0.105563</td>\n",
              "      <td>0.987672</td>\n",
              "      <td>1.000000</td>\n",
              "      <td>-0.051918</td>\n",
              "      <td>-0.062336</td>\n",
              "      <td>0.454080</td>\n",
              "      <td>0.332559</td>\n",
              "      <td>0.400929</td>\n",
              "    </tr>\n",
              "    <tr>\n",
              "      <th>hum</th>\n",
              "      <td>0.009577</td>\n",
              "      <td>0.010196</td>\n",
              "      <td>0.150625</td>\n",
              "      <td>-0.083546</td>\n",
              "      <td>0.164411</td>\n",
              "      <td>-0.276498</td>\n",
              "      <td>-0.010588</td>\n",
              "      <td>-0.037158</td>\n",
              "      <td>0.015688</td>\n",
              "      <td>0.418130</td>\n",
              "      <td>-0.069881</td>\n",
              "      <td>-0.051918</td>\n",
              "      <td>1.000000</td>\n",
              "      <td>-0.290105</td>\n",
              "      <td>-0.347028</td>\n",
              "      <td>-0.273933</td>\n",
              "      <td>-0.322911</td>\n",
              "    </tr>\n",
              "    <tr>\n",
              "      <th>windspeed</th>\n",
              "      <td>-0.074505</td>\n",
              "      <td>-0.074645</td>\n",
              "      <td>-0.149773</td>\n",
              "      <td>-0.008740</td>\n",
              "      <td>-0.135386</td>\n",
              "      <td>0.137252</td>\n",
              "      <td>0.003988</td>\n",
              "      <td>0.011502</td>\n",
              "      <td>-0.011830</td>\n",
              "      <td>0.026226</td>\n",
              "      <td>-0.023125</td>\n",
              "      <td>-0.062336</td>\n",
              "      <td>-0.290105</td>\n",
              "      <td>1.000000</td>\n",
              "      <td>0.090287</td>\n",
              "      <td>0.082321</td>\n",
              "      <td>0.093234</td>\n",
              "    </tr>\n",
              "    <tr>\n",
              "      <th>casual</th>\n",
              "      <td>0.158295</td>\n",
              "      <td>0.157821</td>\n",
              "      <td>0.120206</td>\n",
              "      <td>0.142779</td>\n",
              "      <td>0.068457</td>\n",
              "      <td>0.301202</td>\n",
              "      <td>0.031564</td>\n",
              "      <td>0.032721</td>\n",
              "      <td>-0.300942</td>\n",
              "      <td>-0.152628</td>\n",
              "      <td>0.459616</td>\n",
              "      <td>0.454080</td>\n",
              "      <td>-0.347028</td>\n",
              "      <td>0.090287</td>\n",
              "      <td>1.000000</td>\n",
              "      <td>0.506618</td>\n",
              "      <td>0.694564</td>\n",
              "    </tr>\n",
              "    <tr>\n",
              "      <th>registered</th>\n",
              "      <td>0.282046</td>\n",
              "      <td>0.281450</td>\n",
              "      <td>0.174226</td>\n",
              "      <td>0.253684</td>\n",
              "      <td>0.122273</td>\n",
              "      <td>0.374141</td>\n",
              "      <td>-0.047345</td>\n",
              "      <td>0.021578</td>\n",
              "      <td>0.134326</td>\n",
              "      <td>-0.120966</td>\n",
              "      <td>0.335361</td>\n",
              "      <td>0.332559</td>\n",
              "      <td>-0.273933</td>\n",
              "      <td>0.082321</td>\n",
              "      <td>0.506618</td>\n",
              "      <td>1.000000</td>\n",
              "      <td>0.972151</td>\n",
              "    </tr>\n",
              "    <tr>\n",
              "      <th>cnt</th>\n",
              "      <td>0.278379</td>\n",
              "      <td>0.277753</td>\n",
              "      <td>0.178056</td>\n",
              "      <td>0.250495</td>\n",
              "      <td>0.120638</td>\n",
              "      <td>0.394071</td>\n",
              "      <td>-0.030927</td>\n",
              "      <td>0.026900</td>\n",
              "      <td>0.030284</td>\n",
              "      <td>-0.142426</td>\n",
              "      <td>0.404772</td>\n",
              "      <td>0.400929</td>\n",
              "      <td>-0.322911</td>\n",
              "      <td>0.093234</td>\n",
              "      <td>0.694564</td>\n",
              "      <td>0.972151</td>\n",
              "      <td>1.000000</td>\n",
              "    </tr>\n",
              "  </tbody>\n",
              "</table>\n",
              "</div>"
            ],
            "text/plain": [
              "             instant    dteday    season        yr      mnth        hr  \\\n",
              "instant     1.000000  0.999995  0.404046  0.866014  0.489164 -0.004775   \n",
              "dteday      0.999995  1.000000  0.404452  0.865648  0.489808 -0.006161   \n",
              "season      0.404046  0.404452  1.000000 -0.010742  0.830386 -0.006117   \n",
              "yr          0.866014  0.865648 -0.010742  1.000000 -0.010473 -0.003867   \n",
              "mnth        0.489164  0.489808  0.830386 -0.010473  1.000000 -0.005772   \n",
              "hr         -0.004775 -0.006161 -0.006117 -0.003867 -0.005772  1.000000   \n",
              "holiday     0.014723  0.014737 -0.009585  0.006692  0.018430  0.000479   \n",
              "weekday     0.001357  0.001372 -0.002335 -0.004485  0.010400 -0.003498   \n",
              "workingday -0.003416 -0.003366  0.013743 -0.002196 -0.003477  0.002285   \n",
              "weathersit -0.014198 -0.014063 -0.014524 -0.019157  0.005400 -0.020203   \n",
              "temp        0.136178  0.136074  0.312025  0.040913  0.201691  0.137603   \n",
              "atemp       0.137615  0.137543  0.319380  0.039222  0.208096  0.133750   \n",
              "hum         0.009577  0.010196  0.150625 -0.083546  0.164411 -0.276498   \n",
              "windspeed  -0.074505 -0.074645 -0.149773 -0.008740 -0.135386  0.137252   \n",
              "casual      0.158295  0.157821  0.120206  0.142779  0.068457  0.301202   \n",
              "registered  0.282046  0.281450  0.174226  0.253684  0.122273  0.374141   \n",
              "cnt         0.278379  0.277753  0.178056  0.250495  0.120638  0.394071   \n",
              "\n",
              "             holiday   weekday  workingday  weathersit      temp     atemp  \\\n",
              "instant     0.014723  0.001357   -0.003416   -0.014198  0.136178  0.137615   \n",
              "dteday      0.014737  0.001372   -0.003366   -0.014063  0.136074  0.137543   \n",
              "season     -0.009585 -0.002335    0.013743   -0.014524  0.312025  0.319380   \n",
              "yr          0.006692 -0.004485   -0.002196   -0.019157  0.040913  0.039222   \n",
              "mnth        0.018430  0.010400   -0.003477    0.005400  0.201691  0.208096   \n",
              "hr          0.000479 -0.003498    0.002285   -0.020203  0.137603  0.133750   \n",
              "holiday     1.000000 -0.102088   -0.252471   -0.017036 -0.027340 -0.030973   \n",
              "weekday    -0.102088  1.000000    0.035955    0.003311 -0.001795 -0.008821   \n",
              "workingday -0.252471  0.035955    1.000000    0.044672  0.055390  0.054667   \n",
              "weathersit -0.017036  0.003311    0.044672    1.000000 -0.102640 -0.105563   \n",
              "temp       -0.027340 -0.001795    0.055390   -0.102640  1.000000  0.987672   \n",
              "atemp      -0.030973 -0.008821    0.054667   -0.105563  0.987672  1.000000   \n",
              "hum        -0.010588 -0.037158    0.015688    0.418130 -0.069881 -0.051918   \n",
              "windspeed   0.003988  0.011502   -0.011830    0.026226 -0.023125 -0.062336   \n",
              "casual      0.031564  0.032721   -0.300942   -0.152628  0.459616  0.454080   \n",
              "registered -0.047345  0.021578    0.134326   -0.120966  0.335361  0.332559   \n",
              "cnt        -0.030927  0.026900    0.030284   -0.142426  0.404772  0.400929   \n",
              "\n",
              "                 hum  windspeed    casual  registered       cnt  \n",
              "instant     0.009577  -0.074505  0.158295    0.282046  0.278379  \n",
              "dteday      0.010196  -0.074645  0.157821    0.281450  0.277753  \n",
              "season      0.150625  -0.149773  0.120206    0.174226  0.178056  \n",
              "yr         -0.083546  -0.008740  0.142779    0.253684  0.250495  \n",
              "mnth        0.164411  -0.135386  0.068457    0.122273  0.120638  \n",
              "hr         -0.276498   0.137252  0.301202    0.374141  0.394071  \n",
              "holiday    -0.010588   0.003988  0.031564   -0.047345 -0.030927  \n",
              "weekday    -0.037158   0.011502  0.032721    0.021578  0.026900  \n",
              "workingday  0.015688  -0.011830 -0.300942    0.134326  0.030284  \n",
              "weathersit  0.418130   0.026226 -0.152628   -0.120966 -0.142426  \n",
              "temp       -0.069881  -0.023125  0.459616    0.335361  0.404772  \n",
              "atemp      -0.051918  -0.062336  0.454080    0.332559  0.400929  \n",
              "hum         1.000000  -0.290105 -0.347028   -0.273933 -0.322911  \n",
              "windspeed  -0.290105   1.000000  0.090287    0.082321  0.093234  \n",
              "casual     -0.347028   0.090287  1.000000    0.506618  0.694564  \n",
              "registered -0.273933   0.082321  0.506618    1.000000  0.972151  \n",
              "cnt        -0.322911   0.093234  0.694564    0.972151  1.000000  "
            ]
          },
          "execution_count": 18,
          "metadata": {},
          "output_type": "execute_result"
        }
      ],
      "source": [
        "hour_df.corr()"
      ]
    },
    {
      "cell_type": "markdown",
      "metadata": {
        "id": "I5PaJsYOc800"
      },
      "source": [
        "*Nilai korelasi yang diperoleh menunjukkan bahwa musim (season) dengan jumlah pengguna terdaftar (registered) memiliki korelasi*"
      ]
    },
    {
      "cell_type": "markdown",
      "metadata": {
        "id": "gEaHd0w91TLa"
      },
      "source": [
        "*3. Selanjutnya, kita akan lihat pengunaan sepeda berdasarkan musim. Untuk melakukan ini, kita akan menggunakan method groupby() yang diiikuti dengan metode agg()*"
      ]
    },
    {
      "cell_type": "code",
      "execution_count": 19,
      "metadata": {
        "colab": {
          "base_uri": "https://localhost:8080/",
          "height": 237
        },
        "id": "8czadcBzf_iw",
        "outputId": "d5bb95f5-25ac-4136-c944-f825c8dc293d"
      },
      "outputs": [
        {
          "data": {
            "text/html": [
              "<div>\n",
              "<style scoped>\n",
              "    .dataframe tbody tr th:only-of-type {\n",
              "        vertical-align: middle;\n",
              "    }\n",
              "\n",
              "    .dataframe tbody tr th {\n",
              "        vertical-align: top;\n",
              "    }\n",
              "\n",
              "    .dataframe thead tr th {\n",
              "        text-align: left;\n",
              "    }\n",
              "\n",
              "    .dataframe thead tr:last-of-type th {\n",
              "        text-align: right;\n",
              "    }\n",
              "</style>\n",
              "<table border=\"1\" class=\"dataframe\">\n",
              "  <thead>\n",
              "    <tr>\n",
              "      <th></th>\n",
              "      <th>registered</th>\n",
              "      <th colspan=\"4\" halign=\"left\">cnt</th>\n",
              "    </tr>\n",
              "    <tr>\n",
              "      <th></th>\n",
              "      <th>max</th>\n",
              "      <th>max</th>\n",
              "      <th>min</th>\n",
              "      <th>mean</th>\n",
              "      <th>std</th>\n",
              "    </tr>\n",
              "    <tr>\n",
              "      <th>season</th>\n",
              "      <th></th>\n",
              "      <th></th>\n",
              "      <th></th>\n",
              "      <th></th>\n",
              "      <th></th>\n",
              "    </tr>\n",
              "  </thead>\n",
              "  <tbody>\n",
              "    <tr>\n",
              "      <th>1</th>\n",
              "      <td>681</td>\n",
              "      <td>801</td>\n",
              "      <td>1</td>\n",
              "      <td>111.114569</td>\n",
              "      <td>119.224010</td>\n",
              "    </tr>\n",
              "    <tr>\n",
              "      <th>2</th>\n",
              "      <td>782</td>\n",
              "      <td>957</td>\n",
              "      <td>1</td>\n",
              "      <td>208.344069</td>\n",
              "      <td>188.362473</td>\n",
              "    </tr>\n",
              "    <tr>\n",
              "      <th>3</th>\n",
              "      <td>886</td>\n",
              "      <td>977</td>\n",
              "      <td>1</td>\n",
              "      <td>236.016237</td>\n",
              "      <td>197.711630</td>\n",
              "    </tr>\n",
              "    <tr>\n",
              "      <th>4</th>\n",
              "      <td>876</td>\n",
              "      <td>967</td>\n",
              "      <td>1</td>\n",
              "      <td>198.868856</td>\n",
              "      <td>182.967972</td>\n",
              "    </tr>\n",
              "  </tbody>\n",
              "</table>\n",
              "</div>"
            ],
            "text/plain": [
              "       registered  cnt                            \n",
              "              max  max min        mean         std\n",
              "season                                            \n",
              "1             681  801   1  111.114569  119.224010\n",
              "2             782  957   1  208.344069  188.362473\n",
              "3             886  977   1  236.016237  197.711630\n",
              "4             876  967   1  198.868856  182.967972"
            ]
          },
          "execution_count": 19,
          "metadata": {},
          "output_type": "execute_result"
        }
      ],
      "source": [
        "hour_df.groupby(by=\"season\").agg({\n",
        "    \"registered\" : [\"max\"],\n",
        "    \"cnt\": [\"max\", \"min\", \"mean\", \"std\"]\n",
        "})"
      ]
    },
    {
      "cell_type": "markdown",
      "metadata": {
        "id": "qxLVQx4M02CE"
      },
      "source": [
        "*Berdasarkan pivot table diatas, dapat diketahui bahwa musim gugur (3) lebih lama disewa dibanding musim semi (1)*"
      ]
    },
    {
      "cell_type": "markdown",
      "metadata": {
        "id": "6iNhNdJH4Rkh"
      },
      "source": [
        "### Eksplorasi Data all_df"
      ]
    },
    {
      "cell_type": "markdown",
      "metadata": {
        "id": "Co9eQ9VD6DOY"
      },
      "source": [
        "*1. Untuk melihat pola penggunaan berdasarkan musim, kita akan menjalankan proses pengabungan*"
      ]
    },
    {
      "cell_type": "code",
      "execution_count": 20,
      "metadata": {
        "colab": {
          "base_uri": "https://localhost:8080/",
          "height": 313
        },
        "id": "ULT5CI_c4zSb",
        "outputId": "9ad307d1-8241-439e-a4c6-76243cb8fde0"
      },
      "outputs": [
        {
          "data": {
            "text/html": [
              "<div>\n",
              "<style scoped>\n",
              "    .dataframe tbody tr th:only-of-type {\n",
              "        vertical-align: middle;\n",
              "    }\n",
              "\n",
              "    .dataframe tbody tr th {\n",
              "        vertical-align: top;\n",
              "    }\n",
              "\n",
              "    .dataframe thead th {\n",
              "        text-align: right;\n",
              "    }\n",
              "</style>\n",
              "<table border=\"1\" class=\"dataframe\">\n",
              "  <thead>\n",
              "    <tr style=\"text-align: right;\">\n",
              "      <th></th>\n",
              "      <th>instant</th>\n",
              "      <th>dteday</th>\n",
              "      <th>season</th>\n",
              "      <th>yr</th>\n",
              "      <th>mnth</th>\n",
              "      <th>holiday</th>\n",
              "      <th>weekday</th>\n",
              "      <th>workingday</th>\n",
              "      <th>weathersit</th>\n",
              "      <th>temp</th>\n",
              "      <th>atemp</th>\n",
              "      <th>hum</th>\n",
              "      <th>windspeed</th>\n",
              "      <th>casual</th>\n",
              "      <th>registered</th>\n",
              "      <th>cnt</th>\n",
              "      <th>hr</th>\n",
              "    </tr>\n",
              "  </thead>\n",
              "  <tbody>\n",
              "    <tr>\n",
              "      <th>0</th>\n",
              "      <td>1</td>\n",
              "      <td>2011-01-01</td>\n",
              "      <td>1</td>\n",
              "      <td>0</td>\n",
              "      <td>1</td>\n",
              "      <td>0</td>\n",
              "      <td>6</td>\n",
              "      <td>0</td>\n",
              "      <td>1</td>\n",
              "      <td>0.24</td>\n",
              "      <td>0.2879</td>\n",
              "      <td>0.81</td>\n",
              "      <td>0.0</td>\n",
              "      <td>3</td>\n",
              "      <td>13</td>\n",
              "      <td>16</td>\n",
              "      <td>0</td>\n",
              "    </tr>\n",
              "    <tr>\n",
              "      <th>1</th>\n",
              "      <td>2</td>\n",
              "      <td>2011-01-01</td>\n",
              "      <td>1</td>\n",
              "      <td>0</td>\n",
              "      <td>1</td>\n",
              "      <td>0</td>\n",
              "      <td>6</td>\n",
              "      <td>0</td>\n",
              "      <td>1</td>\n",
              "      <td>0.22</td>\n",
              "      <td>0.2727</td>\n",
              "      <td>0.80</td>\n",
              "      <td>0.0</td>\n",
              "      <td>8</td>\n",
              "      <td>32</td>\n",
              "      <td>40</td>\n",
              "      <td>1</td>\n",
              "    </tr>\n",
              "    <tr>\n",
              "      <th>2</th>\n",
              "      <td>3</td>\n",
              "      <td>2011-01-01</td>\n",
              "      <td>1</td>\n",
              "      <td>0</td>\n",
              "      <td>1</td>\n",
              "      <td>0</td>\n",
              "      <td>6</td>\n",
              "      <td>0</td>\n",
              "      <td>1</td>\n",
              "      <td>0.22</td>\n",
              "      <td>0.2727</td>\n",
              "      <td>0.80</td>\n",
              "      <td>0.0</td>\n",
              "      <td>5</td>\n",
              "      <td>27</td>\n",
              "      <td>32</td>\n",
              "      <td>2</td>\n",
              "    </tr>\n",
              "    <tr>\n",
              "      <th>3</th>\n",
              "      <td>4</td>\n",
              "      <td>2011-01-01</td>\n",
              "      <td>1</td>\n",
              "      <td>0</td>\n",
              "      <td>1</td>\n",
              "      <td>0</td>\n",
              "      <td>6</td>\n",
              "      <td>0</td>\n",
              "      <td>1</td>\n",
              "      <td>0.24</td>\n",
              "      <td>0.2879</td>\n",
              "      <td>0.75</td>\n",
              "      <td>0.0</td>\n",
              "      <td>3</td>\n",
              "      <td>10</td>\n",
              "      <td>13</td>\n",
              "      <td>3</td>\n",
              "    </tr>\n",
              "    <tr>\n",
              "      <th>4</th>\n",
              "      <td>5</td>\n",
              "      <td>2011-01-01</td>\n",
              "      <td>1</td>\n",
              "      <td>0</td>\n",
              "      <td>1</td>\n",
              "      <td>0</td>\n",
              "      <td>6</td>\n",
              "      <td>0</td>\n",
              "      <td>1</td>\n",
              "      <td>0.24</td>\n",
              "      <td>0.2879</td>\n",
              "      <td>0.75</td>\n",
              "      <td>0.0</td>\n",
              "      <td>0</td>\n",
              "      <td>1</td>\n",
              "      <td>1</td>\n",
              "      <td>4</td>\n",
              "    </tr>\n",
              "  </tbody>\n",
              "</table>\n",
              "</div>"
            ],
            "text/plain": [
              "   instant     dteday  season  yr  mnth  holiday  weekday  workingday  \\\n",
              "0        1 2011-01-01       1   0     1        0        6           0   \n",
              "1        2 2011-01-01       1   0     1        0        6           0   \n",
              "2        3 2011-01-01       1   0     1        0        6           0   \n",
              "3        4 2011-01-01       1   0     1        0        6           0   \n",
              "4        5 2011-01-01       1   0     1        0        6           0   \n",
              "\n",
              "   weathersit  temp   atemp   hum  windspeed  casual  registered  cnt  hr  \n",
              "0           1  0.24  0.2879  0.81        0.0       3          13   16   0  \n",
              "1           1  0.22  0.2727  0.80        0.0       8          32   40   1  \n",
              "2           1  0.22  0.2727  0.80        0.0       5          27   32   2  \n",
              "3           1  0.24  0.2879  0.75        0.0       3          10   13   3  \n",
              "4           1  0.24  0.2879  0.75        0.0       0           1    1   4  "
            ]
          },
          "execution_count": 20,
          "metadata": {},
          "output_type": "execute_result"
        }
      ],
      "source": [
        "all_df = pd.merge(\n",
        "    left=day_df,\n",
        "    right=hour_df,\n",
        "    how = \"right\",\n",
        ")\n",
        "\n",
        "all_df.head()"
      ]
    },
    {
      "cell_type": "markdown",
      "metadata": {
        "id": "d4MOOY2VwRUS"
      },
      "source": [
        "*Proses merge akan menghasilkan DataFrame seperti diatas*"
      ]
    },
    {
      "cell_type": "markdown",
      "metadata": {
        "id": "tZtmOYRP4yEl"
      },
      "source": [
        "*Karena tipe data masih berupa object maka kita akan menjalankan kode dibawah ini*"
      ]
    },
    {
      "cell_type": "code",
      "execution_count": 21,
      "metadata": {
        "id": "Dd5faV244fz4"
      },
      "outputs": [],
      "source": [
        "datetime3_columns = [\"dteday\"]\n",
        "\n",
        "for column in datetime2_columns:\n",
        "  all_df[column] = pd.to_datetime(all_df[column])"
      ]
    },
    {
      "cell_type": "markdown",
      "metadata": {
        "id": "j65RprNo5Edh"
      },
      "source": [
        "*Lalu kita akan check apakah tipe datanya sudah berubah?*"
      ]
    },
    {
      "cell_type": "code",
      "execution_count": 22,
      "metadata": {
        "colab": {
          "base_uri": "https://localhost:8080/"
        },
        "id": "yc4g_IUE4miJ",
        "outputId": "efda0e17-175e-4daa-9eaa-d2577d80026a"
      },
      "outputs": [
        {
          "name": "stdout",
          "output_type": "stream",
          "text": [
            "<class 'pandas.core.frame.DataFrame'>\n",
            "RangeIndex: 17379 entries, 0 to 17378\n",
            "Data columns (total 17 columns):\n",
            " #   Column      Non-Null Count  Dtype         \n",
            "---  ------      --------------  -----         \n",
            " 0   instant     17379 non-null  int64         \n",
            " 1   dteday      17379 non-null  datetime64[ns]\n",
            " 2   season      17379 non-null  int64         \n",
            " 3   yr          17379 non-null  int64         \n",
            " 4   mnth        17379 non-null  int64         \n",
            " 5   holiday     17379 non-null  int64         \n",
            " 6   weekday     17379 non-null  int64         \n",
            " 7   workingday  17379 non-null  int64         \n",
            " 8   weathersit  17379 non-null  int64         \n",
            " 9   temp        17379 non-null  float64       \n",
            " 10  atemp       17379 non-null  float64       \n",
            " 11  hum         17379 non-null  float64       \n",
            " 12  windspeed   17379 non-null  float64       \n",
            " 13  casual      17379 non-null  int64         \n",
            " 14  registered  17379 non-null  int64         \n",
            " 15  cnt         17379 non-null  int64         \n",
            " 16  hr          17379 non-null  int64         \n",
            "dtypes: datetime64[ns](1), float64(4), int64(12)\n",
            "memory usage: 2.3 MB\n"
          ]
        }
      ],
      "source": [
        "all_df.info()"
      ]
    },
    {
      "cell_type": "markdown",
      "metadata": {
        "id": "Pdxwx2ff5KHK"
      },
      "source": [
        "dapat dilihat bahwa tipe data dteday sudah tidak berupa object"
      ]
    },
    {
      "cell_type": "markdown",
      "metadata": {
        "id": "4h9KMNWO6TVq"
      },
      "source": [
        "*2. Selanjutnya, kita akan melihat preferensi penggunaan sepeda berdasarkan musim*"
      ]
    },
    {
      "cell_type": "code",
      "execution_count": 39,
      "metadata": {
        "colab": {
          "base_uri": "https://localhost:8080/",
          "height": 206
        },
        "id": "HNunbwej6f-N",
        "outputId": "4e7a4849-3340-445b-9ae2-c994db40c551"
      },
      "outputs": [
        {
          "data": {
            "text/html": [
              "<div>\n",
              "<style scoped>\n",
              "    .dataframe tbody tr th:only-of-type {\n",
              "        vertical-align: middle;\n",
              "    }\n",
              "\n",
              "    .dataframe tbody tr th {\n",
              "        vertical-align: top;\n",
              "    }\n",
              "\n",
              "    .dataframe thead th {\n",
              "        text-align: right;\n",
              "    }\n",
              "</style>\n",
              "<table border=\"1\" class=\"dataframe\">\n",
              "  <thead>\n",
              "    <tr style=\"text-align: right;\">\n",
              "      <th></th>\n",
              "      <th>casual</th>\n",
              "      <th>cnt</th>\n",
              "    </tr>\n",
              "    <tr>\n",
              "      <th>season</th>\n",
              "      <th></th>\n",
              "      <th></th>\n",
              "    </tr>\n",
              "  </thead>\n",
              "  <tbody>\n",
              "    <tr>\n",
              "      <th>1</th>\n",
              "      <td>367</td>\n",
              "      <td>471348</td>\n",
              "    </tr>\n",
              "    <tr>\n",
              "      <th>2</th>\n",
              "      <td>361</td>\n",
              "      <td>918589</td>\n",
              "    </tr>\n",
              "    <tr>\n",
              "      <th>3</th>\n",
              "      <td>350</td>\n",
              "      <td>1061129</td>\n",
              "    </tr>\n",
              "    <tr>\n",
              "      <th>4</th>\n",
              "      <td>362</td>\n",
              "      <td>841613</td>\n",
              "    </tr>\n",
              "  </tbody>\n",
              "</table>\n",
              "</div>"
            ],
            "text/plain": [
              "        casual      cnt\n",
              "season                 \n",
              "1          367   471348\n",
              "2          361   918589\n",
              "3          350  1061129\n",
              "4          362   841613"
            ]
          },
          "execution_count": 39,
          "metadata": {},
          "output_type": "execute_result"
        }
      ],
      "source": [
        "all_df.groupby(by=[\"season\"]).agg({\n",
        "    \"casual\":\"max\",\n",
        "    \"cnt\" :\"sum\"\n",
        "})"
      ]
    },
    {
      "cell_type": "markdown",
      "metadata": {
        "id": "7oF3S9cD6rsf"
      },
      "source": [
        "*Pivot diatas memberikan gambaran terkait musim apa yang paling banyak penyewa sepedanya. Jika diperhatikan musim semi (3) memiliki penyewa lebih tinggi dibandingkan musim lainnya*"
      ]
    },
    {
      "cell_type": "markdown",
      "metadata": {
        "id": "zsyZjqak8DC2"
      },
      "source": [
        "## Visualization & Explanatory Analysis"
      ]
    },
    {
      "cell_type": "markdown",
      "metadata": {
        "id": "F4gTEUT73jKu"
      },
      "source": [
        "*Pada tahap ini, kita akan fokus menjawab berbagai pertanyaan bisnis yang telah kita buat*"
      ]
    },
    {
      "cell_type": "markdown",
      "metadata": {
        "id": "HZxOiQ6n8DC2"
      },
      "source": [
        "### Pertanyaan 1 : Bagaimana performa penyewaan sepeda dalam beberapa perhitungan bulan terakhir?"
      ]
    },
    {
      "cell_type": "markdown",
      "metadata": {
        "id": "S5Gd9LcA30pe"
      },
      "source": [
        "*1. Akan digunakan method resample() untuk mengubah frekuensi data untuk memperoleh informasi jumlah penggunaan sepeda yang diperoleh setiap hari.*"
      ]
    },
    {
      "cell_type": "code",
      "execution_count": 97,
      "metadata": {
        "colab": {
          "base_uri": "https://localhost:8080/",
          "height": 206
        },
        "id": "sXrMVpoTBAhz",
        "outputId": "5d785450-8e39-49f9-8dee-0a5a8716c982"
      },
      "outputs": [
        {
          "data": {
            "text/html": [
              "<div>\n",
              "<style scoped>\n",
              "    .dataframe tbody tr th:only-of-type {\n",
              "        vertical-align: middle;\n",
              "    }\n",
              "\n",
              "    .dataframe tbody tr th {\n",
              "        vertical-align: top;\n",
              "    }\n",
              "\n",
              "    .dataframe thead th {\n",
              "        text-align: right;\n",
              "    }\n",
              "</style>\n",
              "<table border=\"1\" class=\"dataframe\">\n",
              "  <thead>\n",
              "    <tr style=\"text-align: right;\">\n",
              "      <th></th>\n",
              "      <th>dteday</th>\n",
              "      <th>jumlah_pengguna</th>\n",
              "    </tr>\n",
              "  </thead>\n",
              "  <tbody>\n",
              "    <tr>\n",
              "      <th>0</th>\n",
              "      <td>2012-01</td>\n",
              "      <td>38189</td>\n",
              "    </tr>\n",
              "    <tr>\n",
              "      <th>1</th>\n",
              "      <td>2012-02</td>\n",
              "      <td>48215</td>\n",
              "    </tr>\n",
              "    <tr>\n",
              "      <th>2</th>\n",
              "      <td>2012-03</td>\n",
              "      <td>64045</td>\n",
              "    </tr>\n",
              "    <tr>\n",
              "      <th>3</th>\n",
              "      <td>2012-04</td>\n",
              "      <td>94870</td>\n",
              "    </tr>\n",
              "    <tr>\n",
              "      <th>4</th>\n",
              "      <td>2012-05</td>\n",
              "      <td>135821</td>\n",
              "    </tr>\n",
              "  </tbody>\n",
              "</table>\n",
              "</div>"
            ],
            "text/plain": [
              "    dteday  jumlah_pengguna\n",
              "0  2012-01            38189\n",
              "1  2012-02            48215\n",
              "2  2012-03            64045\n",
              "3  2012-04            94870\n",
              "4  2012-05           135821"
            ]
          },
          "execution_count": 97,
          "metadata": {},
          "output_type": "execute_result"
        }
      ],
      "source": [
        "day_used_df = all_df.resample(rule='M', on='dteday').agg({\n",
        "    \"cnt\": \"sum\"\n",
        "})\n",
        "day_used_df.index = day_used_df.index.strftime('2012-%m')\n",
        "day_used_df = day_used_df.reset_index()\n",
        "day_used_df.rename(columns={\n",
        "    \"cnt\": \"jumlah_pengguna\"\n",
        "}, inplace=True)\n",
        "day_used_df.head()"
      ]
    },
    {
      "cell_type": "markdown",
      "metadata": {
        "id": "E26w78ld_GFZ"
      },
      "source": [
        "*Kita sudah memiliki sebuah DataFrame yang memuat informasi yang dibutuhkan untuk menjawab pertanyaan ini.*"
      ]
    },
    {
      "cell_type": "markdown",
      "metadata": {
        "id": "6XbhZdhR_Qaq"
      },
      "source": [
        "*2. Selanjutnya, akan digunakan kode dibawah ini untuk membuat line chart terkait jumlah pengguna dari tahun 2011-2012*"
      ]
    },
    {
      "cell_type": "code",
      "execution_count": 96,
      "metadata": {},
      "outputs": [
        {
          "data": {
            "image/png": "[encoded data removed]",
            "text/plain": [
              "<Figure size 1000x600 with 1 Axes>"
            ]
          },
          "metadata": {},
          "output_type": "display_data"
        }
      ],
      "source": [
        "day_used_df = all_df.resample(rule='M', on='dteday').agg({\n",
        "    \"cnt\": \"sum\"\n",
        "})\n",
        "\n",
        "day_used_df.index = day_used_df.index.strftime('%Y-%m')\n",
        "day_used_df = day_used_df.reset_index()\n",
        "\n",
        "day_used_df.rename(columns={\n",
        "    \"cnt\": \"jumlah_pengguna\"\n",
        "}, inplace=True)\n",
        "\n",
        "# Membuat line chart\n",
        "plt.figure(figsize=(10, 6))\n",
        "plt.plot(day_used_df['dteday'], day_used_df['jumlah_pengguna'], marker='o', linewidth=2)\n",
        "\n",
        "# Menambahkan label dan judul\n",
        "plt.xlabel('Tanggal')\n",
        "plt.ylabel('Jumlah Pengguna')\n",
        "plt.title('Penggunaan Sepeda Tahun 2011-2012')\n",
        "plt.xticks(fontsize=10, rotation = 45) \n",
        "plt.yticks(fontsize=10)\n",
        "# Menampilkan grafik\n",
        "plt.show()\n",
        "\n"
      ]
    },
    {
      "cell_type": "markdown",
      "metadata": {},
      "source": [
        "*Berdasarkan visualisasi data, dapat dilihat seperti ada tren naik dan musiman. Dapat dilihat juga bahwa setiap akhir tahun seperti mengalami penurunan*"
      ]
    },
    {
      "cell_type": "markdown",
      "metadata": {},
      "source": [
        "*3. Lalu kita akan melihat performa penggunaan pada bulan terakhir tahun 2012*"
      ]
    },
    {
      "cell_type": "code",
      "execution_count": 95,
      "metadata": {},
      "outputs": [
        {
          "data": {
            "image/png": "[encoded data removed]",
            "text/plain": [
              "<Figure size 1000x600 with 1 Axes>"
            ]
          },
          "metadata": {},
          "output_type": "display_data"
        }
      ],
      "source": [
        "day_used_df = all_df.resample(rule='M', on='dteday').agg({\n",
        "    \"cnt\": \"sum\"\n",
        "})\n",
        "\n",
        "day_used_df.rename(columns={\n",
        "    \"cnt\": \"jumlah_pengguna\"\n",
        "}, inplace=True)\n",
        "\n",
        "tahun_kedua = day_used_df['2012-01-01':'2012-12-31']\n",
        "# Membuat line chart\n",
        "plt.figure(figsize=(10, 6))\n",
        "plt.plot(tahun_kedua.index, tahun_kedua['jumlah_pengguna'], marker='o', linewidth=2)\n",
        "\n",
        "# Menambahkan label dan judul\n",
        "plt.xlabel('Tanggal')\n",
        "plt.ylabel('Jumlah Pengguna')\n",
        "plt.title('Penggunaan Sepeda Tahun 2012')\n",
        "plt.xticks(fontsize=10, rotation = 45) \n",
        "plt.yticks(fontsize=10)\n",
        "# Menampilkan grafik\n",
        "plt.show()"
      ]
    },
    {
      "cell_type": "markdown",
      "metadata": {
        "id": "Pba2KxKhZ97f"
      },
      "source": [
        "*Berdasarkan visualisasi di atas, kita dapat melihat bahwa jumlah pengguaan sepeda mengalami penurunan pada bulan Oktober sampai dengan bulan desember*"
      ]
    },
    {
      "cell_type": "markdown",
      "metadata": {
        "id": "DgHI7CiU8DC2"
      },
      "source": [
        "### Pertanyaan 2 : Bagaimana distribusi penggunaan sepeda berdasarkan musim?"
      ]
    },
    {
      "cell_type": "markdown",
      "metadata": {
        "id": "blXSz-Qqsr-S"
      },
      "source": [
        "*1. Kita akan membuat DataFrame yang memuat informasi yang dibutuhkan untuk menjjawab pertanyaan ini.*"
      ]
    },
    {
      "cell_type": "code",
      "execution_count": null,
      "metadata": {
        "colab": {
          "base_uri": "https://localhost:8080/",
          "height": 175
        },
        "id": "cTJM0owxmlsG",
        "outputId": "043ccf03-f185-409d-9a0d-741b9cf391e0"
      },
      "outputs": [
        {
          "data": {
            "application/vnd.google.colaboratory.intrinsic+json": {
              "summary": "{\n  \"name\": \"season_used_df\",\n  \"rows\": 4,\n  \"fields\": [\n    {\n      \"column\": \"season\",\n      \"properties\": {\n        \"dtype\": \"number\",\n        \"std\": 1,\n        \"min\": 1,\n        \"max\": 4,\n        \"num_unique_values\": 4,\n        \"samples\": [\n          2,\n          4,\n          1\n        ],\n        \"semantic_type\": \"\",\n        \"description\": \"\"\n      }\n    },\n    {\n      \"column\": \"cnt\",\n      \"properties\": {\n        \"dtype\": \"number\",\n        \"std\": 251560,\n        \"min\": 471348,\n        \"max\": 1061129,\n        \"num_unique_values\": 4,\n        \"samples\": [\n          918589,\n          841613,\n          471348\n        ],\n        \"semantic_type\": \"\",\n        \"description\": \"\"\n      }\n    }\n  ]\n}",
              "type": "dataframe",
              "variable_name": "season_used_df"
            },
            "text/html": [
              "\n",
              "  <div id=\"df-c4afb35d-d46e-4f15-a5f1-1fadba3e80d1\" class=\"colab-df-container\">\n",
              "    <div>\n",
              "<style scoped>\n",
              "    .dataframe tbody tr th:only-of-type {\n",
              "        vertical-align: middle;\n",
              "    }\n",
              "\n",
              "    .dataframe tbody tr th {\n",
              "        vertical-align: top;\n",
              "    }\n",
              "\n",
              "    .dataframe thead th {\n",
              "        text-align: right;\n",
              "    }\n",
              "</style>\n",
              "<table border=\"1\" class=\"dataframe\">\n",
              "  <thead>\n",
              "    <tr style=\"text-align: right;\">\n",
              "      <th></th>\n",
              "      <th>season</th>\n",
              "      <th>cnt</th>\n",
              "    </tr>\n",
              "  </thead>\n",
              "  <tbody>\n",
              "    <tr>\n",
              "      <th>0</th>\n",
              "      <td>1</td>\n",
              "      <td>471348</td>\n",
              "    </tr>\n",
              "    <tr>\n",
              "      <th>1</th>\n",
              "      <td>2</td>\n",
              "      <td>918589</td>\n",
              "    </tr>\n",
              "    <tr>\n",
              "      <th>2</th>\n",
              "      <td>3</td>\n",
              "      <td>1061129</td>\n",
              "    </tr>\n",
              "    <tr>\n",
              "      <th>3</th>\n",
              "      <td>4</td>\n",
              "      <td>841613</td>\n",
              "    </tr>\n",
              "  </tbody>\n",
              "</table>\n",
              "</div>\n",
              "    <div class=\"colab-df-buttons\">\n",
              "\n",
              "  <div class=\"colab-df-container\">\n",
              "    <button class=\"colab-df-convert\" onclick=\"convertToInteractive('df-c4afb35d-d46e-4f15-a5f1-1fadba3e80d1')\"\n",
              "            title=\"Convert this dataframe to an interactive table.\"\n",
              "            style=\"display:none;\">\n",
              "\n",
              "  <svg xmlns=\"http://www.w3.org/2000/svg\" height=\"24px\" viewBox=\"0 -960 960 960\">\n",
              "    <path d=\"M120-120v-720h720v720H120Zm60-500h600v-160H180v160Zm220 220h160v-160H400v160Zm0 220h160v-160H400v160ZM180-400h160v-160H180v160Zm440 0h160v-160H620v160ZM180-180h160v-160H180v160Zm440 0h160v-160H620v160Z\"/>\n",
              "  </svg>\n",
              "    </button>\n",
              "\n",
              "  <style>\n",
              "    .colab-df-container {\n",
              "      display:flex;\n",
              "      gap: 12px;\n",
              "    }\n",
              "\n",
              "    .colab-df-convert {\n",
              "      background-color: #E8F0FE;\n",
              "      border: none;\n",
              "      border-radius: 50%;\n",
              "      cursor: pointer;\n",
              "      display: none;\n",
              "      fill: #1967D2;\n",
              "      height: 32px;\n",
              "      padding: 0 0 0 0;\n",
              "      width: 32px;\n",
              "    }\n",
              "\n",
              "    .colab-df-convert:hover {\n",
              "      background-color: #E2EBFA;\n",
              "      box-shadow: 0px 1px 2px rgba(60, 64, 67, 0.3), 0px 1px 3px 1px rgba(60, 64, 67, 0.15);\n",
              "      fill: #174EA6;\n",
              "    }\n",
              "\n",
              "    .colab-df-buttons div {\n",
              "      margin-bottom: 4px;\n",
              "    }\n",
              "\n",
              "    [theme=dark] .colab-df-convert {\n",
              "      background-color: #3B4455;\n",
              "      fill: #D2E3FC;\n",
              "    }\n",
              "\n",
              "    [theme=dark] .colab-df-convert:hover {\n",
              "      background-color: #434B5C;\n",
              "      box-shadow: 0px 1px 3px 1px rgba(0, 0, 0, 0.15);\n",
              "      filter: drop-shadow(0px 1px 2px rgba(0, 0, 0, 0.3));\n",
              "      fill: #FFFFFF;\n",
              "    }\n",
              "  </style>\n",
              "\n",
              "    <script>\n",
              "      const buttonEl =\n",
              "        document.querySelector('#df-c4afb35d-d46e-4f15-a5f1-1fadba3e80d1 button.colab-df-convert');\n",
              "      buttonEl.style.display =\n",
              "        google.colab.kernel.accessAllowed ? 'block' : 'none';\n",
              "\n",
              "      async function convertToInteractive(key) {\n",
              "        const element = document.querySelector('#df-c4afb35d-d46e-4f15-a5f1-1fadba3e80d1');\n",
              "        const dataTable =\n",
              "          await google.colab.kernel.invokeFunction('convertToInteractive',\n",
              "                                                    [key], {});\n",
              "        if (!dataTable) return;\n",
              "\n",
              "        const docLinkHtml = 'Like what you see? Visit the ' +\n",
              "          '<a target=\"_blank\" href=https://colab.research.google.com/notebooks/data_table.ipynb>data table notebook</a>'\n",
              "          + ' to learn more about interactive tables.';\n",
              "        element.innerHTML = '';\n",
              "        dataTable['output_type'] = 'display_data';\n",
              "        await google.colab.output.renderOutput(dataTable, element);\n",
              "        const docLink = document.createElement('div');\n",
              "        docLink.innerHTML = docLinkHtml;\n",
              "        element.appendChild(docLink);\n",
              "      }\n",
              "    </script>\n",
              "  </div>\n",
              "\n",
              "\n",
              "<div id=\"df-75660a0e-8cbd-43d2-9aeb-2bc006f2db3c\">\n",
              "  <button class=\"colab-df-quickchart\" onclick=\"quickchart('df-75660a0e-8cbd-43d2-9aeb-2bc006f2db3c')\"\n",
              "            title=\"Suggest charts\"\n",
              "            style=\"display:none;\">\n",
              "\n",
              "<svg xmlns=\"http://www.w3.org/2000/svg\" height=\"24px\"viewBox=\"0 0 24 24\"\n",
              "     width=\"24px\">\n",
              "    <g>\n",
              "        <path d=\"M19 3H5c-1.1 0-2 .9-2 2v14c0 1.1.9 2 2 2h14c1.1 0 2-.9 2-2V5c0-1.1-.9-2-2-2zM9 17H7v-7h2v7zm4 0h-2V7h2v10zm4 0h-2v-4h2v4z\"/>\n",
              "    </g>\n",
              "</svg>\n",
              "  </button>\n",
              "\n",
              "<style>\n",
              "  .colab-df-quickchart {\n",
              "      --bg-color: #E8F0FE;\n",
              "      --fill-color: #1967D2;\n",
              "      --hover-bg-color: #E2EBFA;\n",
              "      --hover-fill-color: #174EA6;\n",
              "      --disabled-fill-color: #AAA;\n",
              "      --disabled-bg-color: #DDD;\n",
              "  }\n",
              "\n",
              "  [theme=dark] .colab-df-quickchart {\n",
              "      --bg-color: #3B4455;\n",
              "      --fill-color: #D2E3FC;\n",
              "      --hover-bg-color: #434B5C;\n",
              "      --hover-fill-color: #FFFFFF;\n",
              "      --disabled-bg-color: #3B4455;\n",
              "      --disabled-fill-color: #666;\n",
              "  }\n",
              "\n",
              "  .colab-df-quickchart {\n",
              "    background-color: var(--bg-color);\n",
              "    border: none;\n",
              "    border-radius: 50%;\n",
              "    cursor: pointer;\n",
              "    display: none;\n",
              "    fill: var(--fill-color);\n",
              "    height: 32px;\n",
              "    padding: 0;\n",
              "    width: 32px;\n",
              "  }\n",
              "\n",
              "  .colab-df-quickchart:hover {\n",
              "    background-color: var(--hover-bg-color);\n",
              "    box-shadow: 0 1px 2px rgba(60, 64, 67, 0.3), 0 1px 3px 1px rgba(60, 64, 67, 0.15);\n",
              "    fill: var(--button-hover-fill-color);\n",
              "  }\n",
              "\n",
              "  .colab-df-quickchart-complete:disabled,\n",
              "  .colab-df-quickchart-complete:disabled:hover {\n",
              "    background-color: var(--disabled-bg-color);\n",
              "    fill: var(--disabled-fill-color);\n",
              "    box-shadow: none;\n",
              "  }\n",
              "\n",
              "  .colab-df-spinner {\n",
              "    border: 2px solid var(--fill-color);\n",
              "    border-color: transparent;\n",
              "    border-bottom-color: var(--fill-color);\n",
              "    animation:\n",
              "      spin 1s steps(1) infinite;\n",
              "  }\n",
              "\n",
              "  @keyframes spin {\n",
              "    0% {\n",
              "      border-color: transparent;\n",
              "      border-bottom-color: var(--fill-color);\n",
              "      border-left-color: var(--fill-color);\n",
              "    }\n",
              "    20% {\n",
              "      border-color: transparent;\n",
              "      border-left-color: var(--fill-color);\n",
              "      border-top-color: var(--fill-color);\n",
              "    }\n",
              "    30% {\n",
              "      border-color: transparent;\n",
              "      border-left-color: var(--fill-color);\n",
              "      border-top-color: var(--fill-color);\n",
              "      border-right-color: var(--fill-color);\n",
              "    }\n",
              "    40% {\n",
              "      border-color: transparent;\n",
              "      border-right-color: var(--fill-color);\n",
              "      border-top-color: var(--fill-color);\n",
              "    }\n",
              "    60% {\n",
              "      border-color: transparent;\n",
              "      border-right-color: var(--fill-color);\n",
              "    }\n",
              "    80% {\n",
              "      border-color: transparent;\n",
              "      border-right-color: var(--fill-color);\n",
              "      border-bottom-color: var(--fill-color);\n",
              "    }\n",
              "    90% {\n",
              "      border-color: transparent;\n",
              "      border-bottom-color: var(--fill-color);\n",
              "    }\n",
              "  }\n",
              "</style>\n",
              "\n",
              "  <script>\n",
              "    async function quickchart(key) {\n",
              "      const quickchartButtonEl =\n",
              "        document.querySelector('#' + key + ' button');\n",
              "      quickchartButtonEl.disabled = true;  // To prevent multiple clicks.\n",
              "      quickchartButtonEl.classList.add('colab-df-spinner');\n",
              "      try {\n",
              "        const charts = await google.colab.kernel.invokeFunction(\n",
              "            'suggestCharts', [key], {});\n",
              "      } catch (error) {\n",
              "        console.error('Error during call to suggestCharts:', error);\n",
              "      }\n",
              "      quickchartButtonEl.classList.remove('colab-df-spinner');\n",
              "      quickchartButtonEl.classList.add('colab-df-quickchart-complete');\n",
              "    }\n",
              "    (() => {\n",
              "      let quickchartButtonEl =\n",
              "        document.querySelector('#df-75660a0e-8cbd-43d2-9aeb-2bc006f2db3c button');\n",
              "      quickchartButtonEl.style.display =\n",
              "        google.colab.kernel.accessAllowed ? 'block' : 'none';\n",
              "    })();\n",
              "  </script>\n",
              "</div>\n",
              "    </div>\n",
              "  </div>\n"
            ],
            "text/plain": [
              "   season      cnt\n",
              "0       1   471348\n",
              "1       2   918589\n",
              "2       3  1061129\n",
              "3       4   841613"
            ]
          },
          "execution_count": 195,
          "metadata": {},
          "output_type": "execute_result"
        }
      ],
      "source": [
        "season_used_df = all_df.groupby('season').agg({\n",
        "    'cnt':\"sum\"\n",
        "})\n",
        "season_used_df=season_used_df.reset_index()\n",
        "season_used_df.head()"
      ]
    },
    {
      "cell_type": "markdown",
      "metadata": {
        "id": "FvAzhCS8s-3I"
      },
      "source": [
        "*2. Setelah itu kita akan memvisualisasikan dalam bentuk bar plot*"
      ]
    },
    {
      "cell_type": "code",
      "execution_count": null,
      "metadata": {
        "colab": {
          "base_uri": "https://localhost:8080/",
          "height": 424
        },
        "id": "Lja2JYz8uKt6",
        "outputId": "67d3948c-4c71-4f1d-e43f-0ce4986be6c1"
      },
      "outputs": [
        {
          "data": {
            "image/png": "[encoded data removed]",
            "text/plain": [
              "<Figure size 1000x600 with 1 Axes>"
            ]
          },
          "metadata": {},
          "output_type": "display_data"
        }
      ],
      "source": [
        "season_used_df = all_df.groupby('season').agg({\n",
        "    \"cnt\": \"sum\"\n",
        "})\n",
        "season_used_df=season_used_df.reset_index()\n",
        "\n",
        "plt.figure(figsize=(10, 6))\n",
        "plt.bar(x='season', height='cnt', data= season_used_df,color='skyblue')\n",
        "plt.xlabel('Musim')\n",
        "plt.ylabel('Jumlah Sepeda Disewa')\n",
        "plt.title('Distribusi Penggunaan Sepeda Berdasarkan Musim')\n",
        "plt.xticks(ticks=season_used_df['season'], labels=['Musim Semi', 'Musim Panas', 'Musim Gugur', 'Musim Dingin'])\n",
        "plt.show()"
      ]
    },
    {
      "cell_type": "markdown",
      "metadata": {
        "id": "5XcCUsn5tF2Q"
      },
      "source": [
        "*Dari bar plot diatas dapat dilihat bahwa penggunaan (penyewa sepeda) pada musim gugur lebih tinggi dibandingkan musim lainnya*"
      ]
    },
    {
      "cell_type": "markdown",
      "metadata": {
        "id": "1ZTxLuH96TZY"
      },
      "source": [
        "*3. Kita juga dapat memvisualisasikan ini menjadi bentuk pie chart*"
      ]
    },
    {
      "cell_type": "code",
      "execution_count": null,
      "metadata": {
        "colab": {
          "base_uri": "https://localhost:8080/",
          "height": 574
        },
        "id": "zA8sB7xy6fXD",
        "outputId": "aa754831-e5a5-434e-dbe1-4059c16dd11d"
      },
      "outputs": [
        {
          "data": {
            "image/png": "[encoded data removed]",
            "text/plain": [
              "<Figure size 800x800 with 1 Axes>"
            ]
          },
          "metadata": {},
          "output_type": "display_data"
        }
      ],
      "source": [
        "season_pie_used_df = all_df.groupby('season').agg({\n",
        "    \"cnt\": \"sum\"\n",
        "})\n",
        "season_pie_used_df=season_pie_used_df.reset_index()\n",
        "\n",
        "plt.figure(figsize=(8, 8))\n",
        "Nama = ('Musim Semi', 'Musim Panas', 'Musim Gugur', 'Musim Dingin')\n",
        "plt.pie(x='cnt', data=season_pie_used_df, labels= Nama, autopct='%1.1f%%')\n",
        "plt.title('Distribusi Penggunaan Sepeda Berdasarkan Musim')\n",
        "plt.axis('equal')\n",
        "plt.show()"
      ]
    },
    {
      "cell_type": "markdown",
      "metadata": {
        "id": "px83EYr-7Xhf"
      },
      "source": [
        "*Dari pie plot diatas dapat dilihat bahwa penggunaan (penyewa sepeda) pada musim gugur lebih tinggi dibandingkan musim lainnya*"
      ]
    },
    {
      "cell_type": "markdown",
      "metadata": {
        "id": "hCNUbnUZw9GB"
      },
      "source": [
        "### Pertanyaan 3 : Bagaimana korelasi antara kecepatan angin dengan jumlah penyewa sepeda?"
      ]
    },
    {
      "cell_type": "markdown",
      "metadata": {
        "id": "QHs81IbZyhOg"
      },
      "source": [
        "*1. Untuk menjawab pertanyaan ini, kita akan menggunakan function scatter() untuk membuat visualisasi*"
      ]
    },
    {
      "cell_type": "code",
      "execution_count": null,
      "metadata": {
        "colab": {
          "base_uri": "https://localhost:8080/",
          "height": 410
        },
        "id": "QZZSjRU_xbpc",
        "outputId": "109e8cb7-00f8-43a9-c9ad-610740bdf190"
      },
      "outputs": [
        {
          "data": {
            "image/png": "[encoded data removed]",
            "text/plain": [
              "<Figure size 1000x600 with 1 Axes>"
            ]
          },
          "metadata": {},
          "output_type": "display_data"
        }
      ],
      "source": [
        "windspeed_used_df = all_df.groupby('windspeed').agg({\n",
        "    \"cnt\": \"sum\"\n",
        "})\n",
        "windspeed_used_df=windspeed_used_df.reset_index()\n",
        "\n",
        "plt.figure(figsize=(10, 6))\n",
        "sns.scatterplot(x='windspeed', y='cnt', data=windspeed_used_df, color='skyblue')\n",
        "plt.xlabel('Kecepatan Angin')\n",
        "plt.ylabel('Jumlah Sepeda Disewa')\n",
        "plt.title('Korelasi antara Kecepatan Angin dan Jumlah Sepeda Disewa')\n",
        "plt.show()"
      ]
    },
    {
      "cell_type": "markdown",
      "metadata": {
        "id": "S_oXRgHnyu8m"
      },
      "source": [
        "*Untuk mempermudah dalam melihat korelasi atau hubungan antar variabel, kita bisa menggunakan function regplot()*"
      ]
    },
    {
      "cell_type": "code",
      "execution_count": null,
      "metadata": {
        "colab": {
          "base_uri": "https://localhost:8080/",
          "height": 472
        },
        "id": "kHfhMfLyy4KZ",
        "outputId": "534ecf31-7232-43f4-b106-a1ca72339054"
      },
      "outputs": [
        {
          "data": {
            "image/png": "[encoded data removed]",
            "text/plain": [
              "<Figure size 640x480 with 1 Axes>"
            ]
          },
          "metadata": {},
          "output_type": "display_data"
        }
      ],
      "source": [
        "sns.regplot(x='windspeed', y='cnt', data=windspeed_used_df, color='skyblue')\n",
        "plt.xlabel('Kecepatan Angin')\n",
        "plt.ylabel('Jumlah Sepeda Disewa')\n",
        "plt.title('Korelasi antara Kecepatan Angin dan Jumlah Sepeda Disewa')\n",
        "plt.show()"
      ]
    },
    {
      "cell_type": "markdown",
      "metadata": {
        "id": "b64gAhXizItE"
      },
      "source": [
        "*Pada Visualisasi data diatas, pita di sekitar garis menunjukkan tidak adanya korelasi antara kecepatan angin dan jumlah sepeda disewa*"
      ]
    },
    {
      "cell_type": "code",
      "execution_count": 40,
      "metadata": {
        "id": "J5RSQMcD1XWJ"
      },
      "outputs": [],
      "source": [
        "all_df.to_csv(\"all_data.csv\", index=False)"
      ]
    },
    {
      "cell_type": "markdown",
      "metadata": {},
      "source": [
        "## Analisis ANOVA"
      ]
    },
    {
      "cell_type": "markdown",
      "metadata": {},
      "source": [
        "### Pertanyaan 4 : Apakah terdapat perbedaan signifikan dalam jumlah penggunaan antara musim-musim tersebut?\n",
        "\n"
      ]
    },
    {
      "cell_type": "markdown",
      "metadata": {},
      "source": [
        "*1. Untuk menjawab pertanyaan ini, kita dapat menggunakan analisis lanjutan yaitu analisis anova.*"
      ]
    },
    {
      "cell_type": "code",
      "execution_count": 72,
      "metadata": {},
      "outputs": [
        {
          "name": "stdout",
          "output_type": "stream",
          "text": [
            "                df        sum_sq       mean_sq           F         PR(>F)\n",
            "C(season)      3.0  3.772936e+07  1.257645e+07  409.181037  7.401071e-257\n",
            "Residual   17375.0  5.340322e+08  3.073567e+04         NaN            NaN\n"
          ]
        }
      ],
      "source": [
        "model = ols('cnt ~ C(season)', data=all_df).fit()\n",
        "\n",
        "tabel_anova = sm.stats.anova_lm(model)\n",
        "\n",
        "print(tabel_anova)"
      ]
    },
    {
      "cell_type": "markdown",
      "metadata": {},
      "source": [
        "*Dari tabel anova diatas diperoleh p value < 0,05. Sehingga tidak terdapat perbedaan signifikan dalam penyewaan antara musim tersebut* "
      ]
    },
    {
      "cell_type": "markdown",
      "metadata": {
        "id": "_WeHlCeX8DC2"
      },
      "source": [
        "## Conclusion"
      ]
    },
    {
      "cell_type": "markdown",
      "metadata": {
        "id": "ZTcyR48Y8DC2"
      },
      "source": [
        "1. Performa pada penyewaan sepeda dapat dilihat dari line chart, dimana menunjukkan penurunan pada bulan Oktober hingga Desember.\n",
        "2. Distribusi penggunaan/penyewaan sepeda jika ditingkatkan dari tertinggi ke rendah terdapat pada musim gugur, musim panas, musim dingin, dan musim semi.\n",
        "3. Berdasarkan p-value yang diperoleh sebesar < 0.05 dimana dapat diartikan bahwa tidak terdapat perbedaan signifikan dalam penyewaan antara masing-masing musim.\n",
        "4. Pada visualisasi data yang diperoleh, menunjukkan bahwa tidak ada korelasi antara kecepatan angin dan jumlah sepeda disewa."
      ]
    }
  ],
  "metadata": {
    "colab": {
      "provenance": []
    },
    "kernelspec": {
      "display_name": "Python 3",
      "language": "python",
      "name": "python3"
    },
    "language_info": {
      "codemirror_mode": {
        "name": "ipython",
        "version": 3
      },
      "file_extension": ".py",
      "mimetype": "text/x-python",
      "name": "python",
      "nbconvert_exporter": "python",
      "pygments_lexer": "ipython3",
      "version": "3.11.5"
    },
    "orig_nbformat": 4,
    "vscode": {
      "interpreter": {
        "hash": "972b3bf27e332e87b5379f2791f6ef9dfc79c71018c370b0d7423235e20fe4d7"
      }
    }
  },
  "nbformat": 4,
  "nbformat_minor": 0
}
